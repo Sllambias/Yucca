{
 "cells": [
  {
   "cell_type": "code",
   "execution_count": 17,
   "metadata": {},
   "outputs": [
    {
     "name": "stdout",
     "output_type": "stream",
     "text": [
      "3D shape:  (128, 96, 24)\n",
      "2D shape:  (128, 96)\n",
      "2D shape with batch and channel dimension:  (50, 1, 128, 96)\n"
     ]
    }
   ],
   "source": [
    "from yucca.image_processing.transforms.Spatial import Spatial\n",
    "from yucca.image_processing.transforms.BiasField import BiasField\n",
    "from yucca.image_processing.transforms.Noise import AdditiveNoise, MultiplicativeNoise\n",
    "from yucca.image_processing.transforms.Ghosting import MotionGhosting\n",
    "from yucca.image_processing.transforms.Ringing import GibbsRinging\n",
    "from nibabel.testing import data_path\n",
    "import nibabel as nib\n",
    "import os\n",
    "from copy import deepcopy\n",
    "import numpy as np\n",
    "import timeit\n",
    "\n",
    "np.random.seed(4215235)\n",
    "iterations = 2\n",
    "# We use a publicly available sample from Nibabel\n",
    "example_file = os.path.join(data_path, 'example4d.nii.gz')\n",
    "im = nib.load(example_file)\n",
    "imarr = im.get_fdata()[:, :, :, 0]\n",
    "\n",
    "# If you want to use a local example for dataset specific times, \n",
    "# uncomment the following and supply the path to a local image the imarr variable\n",
    "\n",
    "#local_file = 'YOUR/PATH/HERE'\n",
    "#im = nib.load(local_file)\n",
    "#imarr = im.get_fdata()\n",
    "\n",
    "# Convert it to the format expected of the transforms\n",
    "# a dict of {\"image\": image, \"seg\": segmentation}\n",
    "# with samples for dims (b, c, x, y, z) for 3D or (b, c, x, y) for 2D\n",
    "# In this case we use slice 12 for an image of (128, 96, 24) - adapt this as you please.\n",
    "print(\"3D shape: \", imarr.shape)\n",
    "imarr = imarr[np.newaxis, np.newaxis, :, :, 12]\n",
    "imarr = np.vstack([imarr]*50)\n",
    "seg = np.zeros(imarr.shape)\n",
    "datadict = {\"image\": imarr, \"label\": seg}\n",
    "print(\"2D shape: \", imarr.shape[2:])\n",
    "print(\"2D shape with batch and channel dimension: \", imarr.shape)"
   ]
  },
  {
   "cell_type": "code",
   "execution_count": 18,
   "metadata": {},
   "outputs": [],
   "source": [
    "idx = np.array(imarr.shape[2:])//4\n",
    "imarr_half = imarr[:, :, idx[0]:-idx[0], idx[1]:-idx[1]]\n",
    "seg_half = np.zeros(imarr_half.shape)\n",
    "datadict_half = {\"image\": imarr_half, \"label\": seg_half}"
   ]
  },
  {
   "cell_type": "code",
   "execution_count": 19,
   "metadata": {},
   "outputs": [
    {
     "name": "stdout",
     "output_type": "stream",
     "text": [
      "Rotation:  0.07687035000003561 \n",
      "  Rotation half:  0.019398150000142778\n"
     ]
    }
   ],
   "source": [
    "# Applying Rotation\n",
    "tform = Spatial(x_rot_in_degrees=(0, 0),\n",
    "                y_rot_in_degrees=(0, 0),\n",
    "                z_rot_in_degrees=(45, 45))\n",
    "print(\"Rotation: \", timeit.timeit(lambda: tform(**deepcopy(datadict)), number=iterations)/iterations, \"\\n \",\n",
    "      \"Rotation half: \", timeit.timeit(lambda: tform(**deepcopy(datadict_half)), number=iterations)/iterations)"
   ]
  },
  {
   "cell_type": "code",
   "execution_count": 21,
   "metadata": {},
   "outputs": [
    {
     "name": "stdout",
     "output_type": "stream",
     "text": [
      "Deformation:  0.07694740000010825 \n",
      "  Deformation half:  0.019714600000042992\n"
     ]
    }
   ],
   "source": [
    "# Applying Deformation\n",
    "from yucca.image_processing.transforms.Spatial import Spatial\n",
    "\n",
    "tform = Spatial(deform_alpha=(700, 700),\n",
    "                deform_sigma=(10, 10))\n",
    "print(\"Deformation: \", timeit.timeit(lambda: tform(**deepcopy(datadict)), number=iterations)/iterations, \"\\n \",\n",
    "      \"Deformation half: \", timeit.timeit(lambda: tform(**deepcopy(datadict_half)), number=iterations)/iterations)\n"
   ]
  },
  {
   "cell_type": "code",
   "execution_count": 25,
   "metadata": {},
   "outputs": [
    {
     "name": "stdout",
     "output_type": "stream",
     "text": [
      "Scaling:  0.07160910000015974 \n",
      "  Scaling half:  0.01951615000007223\n"
     ]
    }
   ],
   "source": [
    "# Applying Scaling\n",
    "tform = Spatial(scale_factor=(1.5, 1.5))\n",
    "print(\"Scaling: \", timeit.timeit(lambda: tform(**deepcopy(datadict)), number=iterations)/iterations, \"\\n \",\n",
    "      \"Scaling half: \", timeit.timeit(lambda: tform(**deepcopy(datadict_half)), number=iterations)/iterations)"
   ]
  },
  {
   "cell_type": "code",
   "execution_count": 26,
   "metadata": {},
   "outputs": [
    {
     "name": "stdout",
     "output_type": "stream",
     "text": [
      "Rotation, Deformation and Scaling WITHOUT cropping:  0.057532350000201404 \n",
      "  Rotation, Deformation and Scaling WITHOUT cropping half:  0.015599049999991621\n"
     ]
    }
   ],
   "source": [
    "# Applying Rotation, Deformation and Scaling WITHOUT cropping\n",
    "tform = Spatial(x_rot_in_degrees=(0, 0),\n",
    "                y_rot_in_degrees=(0, 0),\n",
    "                z_rot_in_degrees=(45, 45),\n",
    "                deform_alpha=(700, 700),\n",
    "                deform_sigma=(10, 10),\n",
    "                scale_factor=(1.5, 1.5))\n",
    "print(\"Rotation, Deformation and Scaling WITHOUT cropping: \", timeit.timeit(lambda: tform(**deepcopy(datadict)), number=iterations)/iterations, \"\\n \",\n",
    "      \"Rotation, Deformation and Scaling WITHOUT cropping half: \", timeit.timeit(lambda: tform(**deepcopy(datadict_half)), number=iterations)/iterations)\n",
    "\n"
   ]
  },
  {
   "cell_type": "code",
   "execution_count": 27,
   "metadata": {},
   "outputs": [
    {
     "name": "stdout",
     "output_type": "stream",
     "text": [
      "Rotation, Deformation and Scaling WITH cropping:  0.032720100000005914 \n",
      "  Rotation, Deformation and Scaling WITH cropping half:  0.021289699999897493\n"
     ]
    }
   ],
   "source": [
    "# Applying Rotation, Deformation and Scaling WITH cropping\n",
    "tform = Spatial(crop=True,\n",
    "                patch_size=np.array(imarr.shape[2:])//2,\n",
    "                x_rot_in_degrees=(0, 0),\n",
    "                y_rot_in_degrees=(0, 0),\n",
    "                z_rot_in_degrees=(45, 45),\n",
    "                deform_alpha=(700, 700),\n",
    "                deform_sigma=(10, 10),\n",
    "               scale_factor=(1.5, 1.5))\n",
    "# Applying Rotation, Deformation and Scaling WITH cropping\n",
    "tform2 = Spatial(crop=True,\n",
    "                patch_size=np.array(imarr_half.shape[2:])//2,\n",
    "                x_rot_in_degrees=(0, 0),\n",
    "                y_rot_in_degrees=(0, 0),\n",
    "                z_rot_in_degrees=(45, 45),\n",
    "                deform_alpha=(700, 700),\n",
    "                deform_sigma=(10, 10),\n",
    "                scale_factor=(1.5, 1.5))\n",
    "print(\"Rotation, Deformation and Scaling WITH cropping: \", timeit.timeit(lambda: tform(**deepcopy(datadict)), number=iterations)/iterations, \"\\n \",\n",
    "      \"Rotation, Deformation and Scaling WITH cropping half: \", timeit.timeit(lambda: tform(**deepcopy(datadict_half)), number=iterations)/iterations)\n",
    "\n"
   ]
  },
  {
   "cell_type": "code",
   "execution_count": 28,
   "metadata": {},
   "outputs": [
    {
     "name": "stdout",
     "output_type": "stream",
     "text": [
      "Additive Noise:  0.019864849999976286 \n",
      "  Additive Noise half:  0.00764219999996385\n"
     ]
    }
   ],
   "source": [
    "# Applying Additive Noise\n",
    "tform = AdditiveNoise(p_per_sample=1, mean=(0, 0),\n",
    "                      sigma=(25, 25))\n",
    "print(\"Additive Noise: \", timeit.timeit(lambda: tform(**deepcopy(datadict)), number=iterations)/iterations, \"\\n \",\n",
    "      \"Additive Noise half: \", timeit.timeit(lambda: tform(**deepcopy(datadict_half)), number=iterations)/iterations)\n"
   ]
  },
  {
   "cell_type": "code",
   "execution_count": 29,
   "metadata": {},
   "outputs": [
    {
     "name": "stdout",
     "output_type": "stream",
     "text": [
      "Multiplicative Noise:  0.025139599999874918 \n",
      "  Multiplicative Noise half:  0.0059195500000441825\n"
     ]
    }
   ],
   "source": [
    "\n",
    "# Applying Multiplicative Noise\n",
    "tform = MultiplicativeNoise(p_per_sample=1, mean=(0, 0),\n",
    "                            sigma=(0.1, 0.1))\n",
    "print(\"Multiplicative Noise: \", timeit.timeit(lambda: tform(**deepcopy(datadict)), number=iterations)/iterations, \"\\n \",\n",
    "      \"Multiplicative Noise half: \", timeit.timeit(lambda: tform(**deepcopy(datadict_half)), number=iterations)/iterations)\n",
    "\n"
   ]
  },
  {
   "cell_type": "code",
   "execution_count": 30,
   "metadata": {},
   "outputs": [
    {
     "name": "stdout",
     "output_type": "stream",
     "text": [
      "Bias Field:  0.046703000000206885 \n",
      "  Bias Field half:  0.031693199999836\n"
     ]
    }
   ],
   "source": [
    "# Applying Bias Field\n",
    "tform = BiasField(p_per_sample=1)\n",
    "print(\"Bias Field: \", timeit.timeit(lambda: tform(**deepcopy(datadict)), number=iterations)/iterations, \"\\n \",\n",
    "      \"Bias Field half: \", timeit.timeit(lambda: tform(**deepcopy(datadict_half)), number=iterations)/iterations)\n"
   ]
  },
  {
   "cell_type": "code",
   "execution_count": 31,
   "metadata": {},
   "outputs": [
    {
     "name": "stdout",
     "output_type": "stream",
     "text": [
      "Motion Ghosting:  0.029291249999914726 \n",
      "  Motion Ghosting half:  0.010056399999939458\n"
     ]
    }
   ],
   "source": [
    "# Applying Motion Ghosting\n",
    "tform = MotionGhosting(p_per_sample=1, alpha=(0.6, 0.6),\n",
    "                       numReps=(3, 4),\n",
    "                       axes=(0, 1))\n",
    "print(\"Motion Ghosting: \", timeit.timeit(lambda: tform(**deepcopy(datadict)), number=iterations)/iterations, \"\\n \",\n",
    "      \"Motion Ghosting half: \", timeit.timeit(lambda: tform(**deepcopy(datadict_half)), number=iterations)/iterations)\n"
   ]
  },
  {
   "cell_type": "code",
   "execution_count": 32,
   "metadata": {},
   "outputs": [
    {
     "name": "stdout",
     "output_type": "stream",
     "text": [
      "Gibbs Ringing:  0.035132399999838526 \n",
      "  Gibbs Ringing half:  0.012108300000136296\n"
     ]
    }
   ],
   "source": [
    "\n",
    "# Applying Gibbs Ringing\n",
    "tform = GibbsRinging(p_per_sample=1, cutFreq=(30, 36),\n",
    "                     axes=(0, 1))\n",
    "print(\"Gibbs Ringing: \", timeit.timeit(lambda: tform(**deepcopy(datadict)), number=iterations)/iterations, \"\\n \",\n",
    "      \"Gibbs Ringing half: \", timeit.timeit(lambda: tform(**deepcopy(datadict_half)), number=iterations)/iterations)\n"
   ]
  }
 ],
 "metadata": {
  "kernelspec": {
   "display_name": "MLOPS",
   "language": "python",
   "name": "python3"
  },
  "language_info": {
   "codemirror_mode": {
    "name": "ipython",
    "version": 3
   },
   "file_extension": ".py",
   "mimetype": "text/x-python",
   "name": "python",
   "nbconvert_exporter": "python",
   "pygments_lexer": "ipython3",
   "version": "3.10.13"
  },
  "orig_nbformat": 4,
  "vscode": {
   "interpreter": {
    "hash": "119d2afe3a63a00158ef1e398aa894a365427b96819596c85c5d30166e8a9d4b"
   }
  }
 },
 "nbformat": 4,
 "nbformat_minor": 2
}
