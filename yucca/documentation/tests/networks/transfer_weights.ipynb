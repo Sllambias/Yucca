{
 "cells": [
  {
   "cell_type": "code",
   "execution_count": 1,
   "metadata": {},
   "outputs": [],
   "source": [
    "import torch\n",
    "from yucca.network_architectures.networks.UNet import UNet"
   ]
  },
  {
   "cell_type": "code",
   "execution_count": 36,
   "metadata": {},
   "outputs": [],
   "source": [
    "# Create the two networks.\n",
    "net1 = UNet(1, 3)\n",
    "net2 = UNet(1, 1)"
   ]
  },
  {
   "cell_type": "code",
   "execution_count": 37,
   "metadata": {},
   "outputs": [
    {
     "name": "stdout",
     "output_type": "stream",
     "text": [
      "tensor([[[ 0.0031,  0.1436,  0.1569],\n",
      "         [ 0.2313, -0.2296,  0.1009],\n",
      "         [ 0.0231,  0.1453, -0.1971]]], grad_fn=<SelectBackward0>)\n",
      "tensor([[[ 0.1108, -0.2359,  0.2191],\n",
      "         [ 0.2806, -0.2911,  0.1257],\n",
      "         [-0.1171, -0.1688,  0.1678]]], grad_fn=<SelectBackward0>)\n"
     ]
    }
   ],
   "source": [
    "# Get values from the start of the encoder. These will be different now, but SHOULD be equal in the end.\n",
    "print(net1.in_conv.conv1.conv.weight[32])\n",
    "print(net2.in_conv.conv1.conv.weight[32])"
   ]
  },
  {
   "cell_type": "code",
   "execution_count": 38,
   "metadata": {},
   "outputs": [
    {
     "name": "stdout",
     "output_type": "stream",
     "text": [
      "tensor([[-0.0680]], grad_fn=<SelectBackward0>)\n",
      "tensor([[0.0780]], grad_fn=<SelectBackward0>)\n"
     ]
    }
   ],
   "source": [
    "# Get values from the output conv. These will be different now, and SHOULD still be different in the end.\n",
    "print(net1.out_conv.weight[0][0])\n",
    "print(net2.out_conv.weight[0][0])"
   ]
  },
  {
   "cell_type": "code",
   "execution_count": 39,
   "metadata": {},
   "outputs": [],
   "source": [
    "net2.load_state_dict(net1.state_dict(), strict=False)"
   ]
  },
  {
   "cell_type": "code",
   "execution_count": 40,
   "metadata": {},
   "outputs": [
    {
     "name": "stdout",
     "output_type": "stream",
     "text": [
      "tensor([[[ 0.0031,  0.1436,  0.1569],\n",
      "         [ 0.2313, -0.2296,  0.1009],\n",
      "         [ 0.0231,  0.1453, -0.1971]]], grad_fn=<SelectBackward0>)\n",
      "tensor([[[ 0.0031,  0.1436,  0.1569],\n",
      "         [ 0.2313, -0.2296,  0.1009],\n",
      "         [ 0.0231,  0.1453, -0.1971]]], grad_fn=<SelectBackward0>)\n"
     ]
    }
   ],
   "source": [
    "# Get values from the start of the encoder again. Should be equal now.\n",
    "print(net1.in_conv.conv1.conv.weight[32])\n",
    "print(net2.in_conv.conv1.conv.weight[32])"
   ]
  },
  {
   "cell_type": "code",
   "execution_count": 41,
   "metadata": {},
   "outputs": [
    {
     "name": "stdout",
     "output_type": "stream",
     "text": [
      "tensor([[-0.0680]], grad_fn=<SelectBackward0>)\n",
      "tensor([[0.0780]], grad_fn=<SelectBackward0>)\n"
     ]
    }
   ],
   "source": [
    "# Get values from the output conv. These should be different since we're using different n_classes.\n",
    "print(net1.out_conv.weight[0][0])\n",
    "print(net2.out_conv.weight[0][0])"
   ]
  }
 ],
 "metadata": {
  "kernelspec": {
   "display_name": "yucca2",
   "language": "python",
   "name": "python3"
  },
  "language_info": {
   "codemirror_mode": {
    "name": "ipython",
    "version": 3
   },
   "file_extension": ".py",
   "mimetype": "text/x-python",
   "name": "python",
   "nbconvert_exporter": "python",
   "pygments_lexer": "ipython3",
   "version": "3.10.13"
  }
 },
 "nbformat": 4,
 "nbformat_minor": 2
}
