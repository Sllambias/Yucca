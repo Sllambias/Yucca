{
 "cells": [
  {
   "cell_type": "code",
   "execution_count": 4,
   "metadata": {},
   "outputs": [],
   "source": [
    "import numpy as np\n",
    "import timeit\n",
    "import nibabel as nib\n",
    "import os\n",
    "from nibabel.testing import data_path"
   ]
  },
  {
   "cell_type": "code",
   "execution_count": 35,
   "metadata": {},
   "outputs": [],
   "source": [
    "# We use a publicly available sample from Nibabel\n",
    "example_file = os.path.join(data_path, \"example4d.nii.gz\")\n",
    "im = nib.load(example_file)\n",
    "imarr = im.get_fdata()[:, :, :, 0]\n",
    "\n",
    "# set values for timeit\n",
    "n_iterations = 100\n",
    "\n",
    "# set save path\n",
    "save_path = \"/Users/zcr545/Desktop/\"  # change this to your own path to test this"
   ]
  },
  {
   "cell_type": "code",
   "execution_count": 36,
   "metadata": {},
   "outputs": [
    {
     "name": "stdout",
     "output_type": "stream",
     "text": [
      "(3, 128, 96, 24)\n"
     ]
    }
   ],
   "source": [
    "# We assume we have a case with 3 mean-shifted modalities\n",
    "imarr_stacked = np.vstack((imarr[np.newaxis], imarr[np.newaxis] - np.mean(imarr), imarr[np.newaxis] + np.mean(imarr)))\n",
    "print(imarr_stacked.shape)"
   ]
  },
  {
   "cell_type": "code",
   "execution_count": 37,
   "metadata": {},
   "outputs": [
    {
     "name": "stdout",
     "output_type": "stream",
     "text": [
      "Time to save compressed array 100 times: total: 15.100403167016339 average: 0.15100403167016338\n"
     ]
    }
   ],
   "source": [
    "def save_compressed():\n",
    "    np.savez_compressed(save_path + \"compressed_test.npz\", a=imarr_stacked)\n",
    "\n",
    "\n",
    "time = timeit.timeit(save_compressed, number=n_iterations)\n",
    "print(f\"Time to save compressed array {n_iterations} times: total: {time} average: {time/n_iterations}\")"
   ]
  },
  {
   "cell_type": "code",
   "execution_count": 38,
   "metadata": {},
   "outputs": [
    {
     "name": "stdout",
     "output_type": "stream",
     "text": [
      "Time to save uncompressed array 100 times: total: 3.3866815410437994 average: 0.03386681541043799\n"
     ]
    }
   ],
   "source": [
    "def save_uncompressed():\n",
    "    np.save(save_path + \"uncompressed_test.npy\", imarr_stacked)\n",
    "\n",
    "\n",
    "time = timeit.timeit(save_uncompressed, number=n_iterations)\n",
    "print(f\"Time to save uncompressed array {n_iterations} times: total: {time} average: {time/n_iterations}\")"
   ]
  },
  {
   "cell_type": "code",
   "execution_count": 39,
   "metadata": {},
   "outputs": [
    {
     "name": "stdout",
     "output_type": "stream",
     "text": [
      "Time to load compressed array 100 times: total: 0.8926385000231676 average: 0.008926385000231676\n"
     ]
    }
   ],
   "source": [
    "def load_compressed():\n",
    "    np.load(save_path + \"compressed_test.npz\")[\"a\"]\n",
    "\n",
    "\n",
    "time = timeit.timeit(load_compressed, number=n_iterations)\n",
    "print(f\"Time to load compressed array {n_iterations} times: total: {time} average: {time/n_iterations}\")"
   ]
  },
  {
   "cell_type": "code",
   "execution_count": 40,
   "metadata": {},
   "outputs": [
    {
     "name": "stdout",
     "output_type": "stream",
     "text": [
      "Time to load uncompressed array 100 times: total: 0.07546775002265349 average: 0.0007546775002265349\n"
     ]
    }
   ],
   "source": [
    "def load_uncompressed():\n",
    "    np.load(save_path + \"uncompressed_test.npy\")\n",
    "\n",
    "\n",
    "time = timeit.timeit(load_uncompressed, number=n_iterations)\n",
    "print(f\"Time to load uncompressed array {n_iterations} times: total: {time} average: {time/n_iterations}\")"
   ]
  },
  {
   "cell_type": "code",
   "execution_count": null,
   "metadata": {},
   "outputs": [],
   "source": []
  }
 ],
 "metadata": {
  "kernelspec": {
   "display_name": "testyucca",
   "language": "python",
   "name": "python3"
  },
  "language_info": {
   "codemirror_mode": {
    "name": "ipython",
    "version": 3
   },
   "file_extension": ".py",
   "mimetype": "text/x-python",
   "name": "python",
   "nbconvert_exporter": "python",
   "pygments_lexer": "ipython3",
   "version": "3.11.8"
  }
 },
 "nbformat": 4,
 "nbformat_minor": 2
}
