{
 "cells": [
  {
   "cell_type": "code",
   "execution_count": 10,
   "metadata": {},
   "outputs": [],
   "source": [
    "import os\n",
    "from batchgenerators.utilities.file_and_folder_operations import maybe_mkdir_p\n",
    "from yucca.pipeline.managers.YuccaManager import YuccaManager\n",
    "from yucca.paths import yucca_models, yucca_results, yucca_raw_data"
   ]
  },
  {
   "cell_type": "markdown",
   "metadata": {},
   "source": [
    "Set some variables for loading the model"
   ]
  },
  {
   "cell_type": "code",
   "execution_count": 3,
   "metadata": {},
   "outputs": [],
   "source": [
    "task = \"Task001_OASIS\"\n",
    "model_name = \"TinyUNet\"\n",
    "dims = \"2D\"\n",
    "manager_name = \"YuccaManager\"\n",
    "plans_name = \"demo\"\n",
    "\n",
    "ckpt_path = os.path.join(\n",
    "    yucca_models,\n",
    "    task,\n",
    "    model_name + \"__\" + dims,\n",
    "    manager_name + \"__\" + plans_name,\n",
    "    \"default\",\n",
    "    \"kfold_5_fold_0\",\n",
    "    \"version_0\",\n",
    "    \"checkpoints\",\n",
    "    \"best.ckpt\",\n",
    ")"
   ]
  },
  {
   "cell_type": "code",
   "execution_count": 4,
   "metadata": {},
   "outputs": [],
   "source": [
    "manager = YuccaManager(\n",
    "    ckpt_path=ckpt_path,\n",
    "    enable_logging=False,\n",
    "    model_name=model_name,\n",
    "    model_dimensions=dims,\n",
    "    task=task,\n",
    "    planner=plans_name,\n",
    ")"
   ]
  },
  {
   "cell_type": "markdown",
   "metadata": {},
   "source": [
    "Set some variables for inference"
   ]
  },
  {
   "cell_type": "code",
   "execution_count": 11,
   "metadata": {},
   "outputs": [],
   "source": [
    "target_task = \"Task001_OASIS\"\n",
    "target_data_path = os.path.join(yucca_raw_data, target_task, \"imagesTs\")\n",
    "save_path = os.path.join(\n",
    "    yucca_results,\n",
    "    task,\n",
    "    target_task,\n",
    "    model_name + \"__\" + dims,\n",
    "    manager_name + \"__\" + plans_name,\n",
    "    \"kfold_5_fold_0\",\n",
    "    \"version_0\",\n",
    "    \"best\",\n",
    ")\n",
    "maybe_mkdir_p(save_path)"
   ]
  },
  {
   "cell_type": "code",
   "execution_count": 12,
   "metadata": {},
   "outputs": [
    {
     "name": "stderr",
     "output_type": "stream",
     "text": [
      "INFO:root:Using ckpt file: /Users/zcr545/Desktop/Projects/repos/yucca_data/models/Task001_OASIS/TinyUNet__2D/YuccaManager__demo/default/kfold_5_fold_0/version_0/checkpoints/best.ckpt\n",
      "Seed set to 802151415\n",
      "INFO:root:Using patch size found in checkpoint: (32, 32)\n",
      "INFO:root:Using batch size: 1 and patch size: (32, 32)\n",
      "INFO:root:YuccaLightningModule initialized with the following config: {'continue_from_most_recent': True, 'experiment': 'default', 'manager_name': 'YuccaManager', 'model_dimensions': '2D', 'model_name': 'TinyUNet', 'patch_based_training': True, 'planner_name': 'demo', 'task': 'Task001_OASIS', 'split_idx': 0, 'split_method': None, 'split_param': None, 'plans_path': '/Users/zcr545/Desktop/Projects/repos/yucca_data/preprocessed/Task001_OASIS/demo/demo_plans.json', 'save_dir': '/Users/zcr545/Desktop/Projects/repos/yucca_data/models/Task001_OASIS/TinyUNet__2D/YuccaManager__demo/default/kfold_5_fold_0', 'train_data_dir': '/Users/zcr545/Desktop/Projects/repos/yucca_data/preprocessed/Task001_OASIS/demo', 'version_dir': '/Users/zcr545/Desktop/Projects/repos/yucca_data/models/Task001_OASIS/TinyUNet__2D/YuccaManager__demo/default/kfold_5_fold_0/version_0', 'version': 0, 'base_experiment': 'default', 'ckpt_path': '/Users/zcr545/Desktop/Projects/repos/yucca_data/models/Task001_OASIS/TinyUNet__2D/YuccaManager__demo/default/kfold_5_fold_0/version_0/checkpoints/best.ckpt', 'ckpt_patch_size': (32, 32), 'ckpt_seed': 802151415, 'ckpt_plans': {'target_coordinate_system': 'RAS', 'preprocessor': '', 'crop_to_nonzero': True, 'normalization_scheme': ['volume_wise_znorm'], 'num_classes': 3, 'num_modalities': 1, 'transpose_forward': [0, 1, 2], 'transpose_backward': [0, 1, 2], 'keep_aspect_ratio_when_using_target_size': True, 'target_size': None, 'target_spacing': [1.0, 1.0, 1.0], 'task_type': 'segmentation', 'dataset_properties': {}, 'plans_name': 'demo', 'suggested_dimensionality': '3D', 'allow_missing_modalities': False, 'n_foreground_locs': [1, 1, 1, 1, 1, 1, 1, 1, 1, 1, 1, 1, 1, 1, 1], 'new_mean_size': [135, 177, 131], 'new_min_size': [127, 164, 124], 'new_max_size': [148, 186, 136], 'mean_cc_size': 0, 'max_cc_size': 0, 'min_cc_size': 0, 'mean_n_cc': 0, 'max_n_cc': 0, 'min_n_cc': 0}, 'ckpt_version_dir': '/Users/zcr545/Desktop/Projects/repos/yucca_data/models/Task001_OASIS/TinyUNet__2D/YuccaManager__demo/default/kfold_5_fold_0/version_0', 'ckpt_wandb_id': 'None', 'seed': 802151415, 'allow_missing_modalities': False, 'image_extension': 'nii.gz', 'num_classes': 3, 'plans': {'target_coordinate_system': 'RAS', 'preprocessor': '', 'crop_to_nonzero': True, 'normalization_scheme': ['volume_wise_znorm'], 'num_classes': 3, 'num_modalities': 1, 'transpose_forward': [0, 1, 2], 'transpose_backward': [0, 1, 2], 'keep_aspect_ratio_when_using_target_size': True, 'target_size': None, 'target_spacing': [1.0, 1.0, 1.0], 'task_type': 'segmentation', 'dataset_properties': {}, 'plans_name': 'demo', 'suggested_dimensionality': '3D', 'allow_missing_modalities': False, 'n_foreground_locs': [1, 1, 1, 1, 1, 1, 1, 1, 1, 1, 1, 1, 1, 1, 1], 'new_mean_size': [135, 177, 131], 'new_min_size': [127, 164, 124], 'new_max_size': [148, 186, 136], 'mean_cc_size': 0, 'max_cc_size': 0, 'min_cc_size': 0, 'mean_n_cc': 0, 'max_n_cc': 0, 'min_n_cc': 0}, 'task_type': 'segmentation', 'regions_in_order': None, 'regions_labeled': None, 'use_label_regions': False, 'batch_size': 1, 'patch_size': (32, 32), 'num_modalities': 1, 'wandb_id': 'None', 'augmentation_parameters': {'deep_supervision': False, 'pre_aug_patch_size': (45, 45), 'random_crop': False, 'cval': 'min', 'mask_image_for_reconstruction': False, 'patch_size': (32, 32), 'skip_label': False, 'label_dtype': <class 'int'>, 'copy_image_to_label': False, 'convert_labels_to_regions': False, 'additive_noise_p_per_sample': 0.2, 'additive_noise_mean': (0.0, 0.0), 'additive_noise_sigma': (0.001, 0.0001), 'biasfield_p_per_sample': 0.33, 'blurring_p_per_sample': 0.2, 'blurring_sigma': (0.0, 1.0), 'blurring_p_per_channel': 0.5, 'elastic_deform_p_per_sample': 0.33, 'elastic_deform_alpha': (200, 600), 'elastic_deform_sigma': (20, 30), 'gamma_p_per_sample': 0.2, 'gamma_p_invert_image': 0.05, 'gamma_range': (0.5, 2.0), 'gibbs_ringing_p_per_sample': 0.2, 'gibbs_ringing_cut_freq': (96, 129), 'gibbs_ringing_axes': (0, 2), 'mask_ratio': 0.5, 'mirror_p_per_sample': 0.0, 'mirror_p_per_axis': 0.33, 'mirror_axes': (0, 1), 'motion_ghosting_p_per_sample': 0.2, 'motion_ghosting_alpha': (0.85, 0.95), 'motion_ghosting_num_reps': (2, 11), 'motion_ghosting_axes': (0, 2), 'multiplicative_noise_p_per_sample': 0.2, 'multiplicative_noise_mean': (0, 0), 'multiplicative_noise_sigma': (0.001, 0.0001), 'rotation_p_per_sample': 0.2, 'rotation_p_per_axis': 0.66, 'rotation_x': (-30.0, 30.0), 'rotation_y': (-0.0, 0.0), 'rotation_z': (-0.0, 0.0), 'scale_p_per_sample': 0.2, 'scale_factor': (0.9, 1.1), 'simulate_lowres_p_per_sample': 0.2, 'simulate_lowres_p_per_channel': 0.5, 'simulate_lowres_p_per_axis': 0.33, 'simulate_lowres_zoom_range': (0.5, 1.0)}}\n",
      "INFO:root:Deep Supervision Enabled: False\n",
      "INFO:root:Loading Model: 2D TinyUNet\n",
      "INFO:root:Using 9 workers\n",
      "INFO:root:Using dataset class: <class 'yucca.data.datasets.YuccaDataset.YuccaTrainDataset'> for train/val and <class 'yucca.data.datasets.YuccaDataset.YuccaTestDataset'> for inference\n",
      "INFO:root:\n",
      "| module                      | #parameters or shape   | #flops     |\n",
      "|:----------------------------|:-----------------------|:-----------|\n",
      "| model                       | 7.567K                 | 1.722M     |\n",
      "|  in_conv                    |  0.204K                |  0.225M    |\n",
      "|   in_conv.conv1             |   48                   |   57.344K  |\n",
      "|    in_conv.conv1.conv       |    40                  |    36.864K |\n",
      "|    in_conv.conv1.norm       |    8                   |    20.48K  |\n",
      "|   in_conv.conv2             |   0.156K               |   0.168M   |\n",
      "|    in_conv.conv2.conv       |    0.148K              |    0.147M  |\n",
      "|    in_conv.conv2.norm       |    8                   |    20.48K  |\n",
      "|  encoder_conv1              |  0.912K                |  0.242M    |\n",
      "|   encoder_conv1.conv1       |   0.312K               |   83.968K  |\n",
      "|    encoder_conv1.conv1.conv |    0.296K              |    73.728K |\n",
      "|    encoder_conv1.conv1.norm |    16                  |    10.24K  |\n",
      "|   encoder_conv1.conv2       |   0.6K                 |   0.158M   |\n",
      "|    encoder_conv1.conv2.conv |    0.584K              |    0.147M  |\n",
      "|    encoder_conv1.conv2.norm |    16                  |    10.24K  |\n",
      "|  encoder_conv2              |  3.552K                |  0.231M    |\n",
      "|   encoder_conv2.conv1       |   1.2K                 |   78.848K  |\n",
      "|    encoder_conv2.conv1.conv |    1.168K              |    73.728K |\n",
      "|    encoder_conv2.conv1.norm |    32                  |    5.12K   |\n",
      "|   encoder_conv2.conv2       |   2.352K               |   0.153M   |\n",
      "|    encoder_conv2.conv2.conv |    2.32K               |    0.147M  |\n",
      "|    encoder_conv2.conv2.norm |    32                  |    5.12K   |\n",
      "|  upsample1                  |  0.52K                 |  32.768K   |\n",
      "|   upsample1.weight          |   (16, 8, 2, 2)        |            |\n",
      "|   upsample1.bias            |   (8,)                 |            |\n",
      "|  decoder_conv1              |  1.776K                |  0.463M    |\n",
      "|   decoder_conv1.conv1       |   1.176K               |   0.305M   |\n",
      "|    decoder_conv1.conv1.conv |    1.16K               |    0.295M  |\n",
      "|    decoder_conv1.conv1.norm |    16                  |    10.24K  |\n",
      "|   decoder_conv1.conv2       |   0.6K                 |   0.158M   |\n",
      "|    decoder_conv1.conv2.conv |    0.584K              |    0.147M  |\n",
      "|    decoder_conv1.conv2.norm |    16                  |    10.24K  |\n",
      "|  upsample2                  |  0.132K                |  32.768K   |\n",
      "|   upsample2.weight          |   (8, 4, 2, 2)         |            |\n",
      "|   upsample2.bias            |   (4,)                 |            |\n",
      "|  decoder_conv2              |  0.456K                |  0.483M    |\n",
      "|   decoder_conv2.conv1       |   0.3K                 |   0.315M   |\n",
      "|    decoder_conv2.conv1.conv |    0.292K              |    0.295M  |\n",
      "|    decoder_conv2.conv1.norm |    8                   |    20.48K  |\n",
      "|   decoder_conv2.conv2       |   0.156K               |   0.168M   |\n",
      "|    decoder_conv2.conv2.conv |    0.148K              |    0.147M  |\n",
      "|    decoder_conv2.conv2.norm |    8                   |    20.48K  |\n",
      "|  out_conv                   |  15                    |  12.288K   |\n",
      "|   out_conv.weight           |   (3, 4, 1, 1)         |            |\n",
      "|   out_conv.bias             |   (3,)                 |            |\n",
      "Using bfloat16 Automatic Mixed Precision (AMP)\n",
      "GPU available: True (mps), used: True\n",
      "TPU available: False, using: 0 TPU cores\n",
      "IPU available: False, using: 0 IPUs\n",
      "HPU available: False, using: 0 HPUs\n",
      "INFO:root:Setting up data for stage: TrainerFn.PREDICTING\n",
      "INFO:root:Found 0 already predicted cases. Overwrite: False\n",
      "Restoring states from the checkpoint path at /Users/zcr545/Desktop/Projects/repos/yucca_data/models/Task001_OASIS/TinyUNet__2D/YuccaManager__demo/default/kfold_5_fold_0/version_0/checkpoints/best.ckpt\n",
      "WARNING:root:Succesfully transferred weights for 76/76 layers\n",
      "WARNING:root:Rejected the following keys:\n",
      "Not in old dict: [].\n",
      "Wrong shape: [].\n",
      "Post check not succesful: [].\n",
      "Loaded model weights from the checkpoint at /Users/zcr545/Desktop/Projects/repos/yucca_data/models/Task001_OASIS/TinyUNet__2D/YuccaManager__demo/default/kfold_5_fold_0/version_0/checkpoints/best.ckpt\n",
      "INFO:root:Starting inference\n",
      "/Users/zcr545/miniconda3/envs/yuccaenv/lib/python3.11/site-packages/lightning/pytorch/trainer/connectors/data_connector.py:436: Consider setting `persistent_workers=True` in 'predict_dataloader' to speed up the dataloader worker initialization.\n"
     ]
    },
    {
     "name": "stdout",
     "output_type": "stream",
     "text": [
      "Composing Transforms\n",
      "Predicting: |          | 0/? [00:00<?, ?it/s]"
     ]
    },
    {
     "ename": "AssertionError",
     "evalue": "Did not find any python class called . Make sure there's no typos (and that the class actually exists)",
     "output_type": "error",
     "traceback": [
      "\u001b[0;31m---------------------------------------------------------------------------\u001b[0m",
      "\u001b[0;31mAssertionError\u001b[0m                            Traceback (most recent call last)",
      "Cell \u001b[0;32mIn[12], line 1\u001b[0m\n\u001b[0;32m----> 1\u001b[0m \u001b[43mmanager\u001b[49m\u001b[38;5;241;43m.\u001b[39;49m\u001b[43mpredict_folder\u001b[49m\u001b[43m(\u001b[49m\n\u001b[1;32m      2\u001b[0m \u001b[43m    \u001b[49m\u001b[43mtarget_data_path\u001b[49m\u001b[43m,\u001b[49m\n\u001b[1;32m      3\u001b[0m \u001b[43m    \u001b[49m\u001b[43moverwrite_predictions\u001b[49m\u001b[38;5;241;43m=\u001b[39;49m\u001b[38;5;28;43;01mFalse\u001b[39;49;00m\u001b[43m,\u001b[49m\n\u001b[1;32m      4\u001b[0m \u001b[43m    \u001b[49m\u001b[43moutput_folder\u001b[49m\u001b[38;5;241;43m=\u001b[39;49m\u001b[43msave_path\u001b[49m\u001b[43m,\u001b[49m\n\u001b[1;32m      5\u001b[0m \u001b[43m)\u001b[49m\n",
      "File \u001b[0;32m~/Desktop/Projects/repos/yucca/yucca/pipeline/managers/YuccaManager.py:309\u001b[0m, in \u001b[0;36mYuccaManager.predict_folder\u001b[0;34m(self, input_folder, disable_tta, overwrite_predictions, output_folder, pred_include_cases, save_softmax)\u001b[0m\n\u001b[1;32m    298\u001b[0m \u001b[38;5;28mself\u001b[39m\u001b[38;5;241m.\u001b[39mbatch_size \u001b[38;5;241m=\u001b[39m \u001b[38;5;241m1\u001b[39m\n\u001b[1;32m    299\u001b[0m \u001b[38;5;28mself\u001b[39m\u001b[38;5;241m.\u001b[39minitialize(\n\u001b[1;32m    300\u001b[0m     stage\u001b[38;5;241m=\u001b[39m\u001b[38;5;124m\"\u001b[39m\u001b[38;5;124mpredict\u001b[39m\u001b[38;5;124m\"\u001b[39m,\n\u001b[1;32m    301\u001b[0m     disable_tta\u001b[38;5;241m=\u001b[39mdisable_tta,\n\u001b[0;32m   (...)\u001b[0m\n\u001b[1;32m    306\u001b[0m     save_softmax\u001b[38;5;241m=\u001b[39msave_softmax,\n\u001b[1;32m    307\u001b[0m )\n\u001b[0;32m--> 309\u001b[0m \u001b[38;5;28;43mself\u001b[39;49m\u001b[38;5;241;43m.\u001b[39;49m\u001b[43mtrainer\u001b[49m\u001b[38;5;241;43m.\u001b[39;49m\u001b[43mpredict\u001b[49m\u001b[43m(\u001b[49m\n\u001b[1;32m    310\u001b[0m \u001b[43m    \u001b[49m\u001b[43mmodel\u001b[49m\u001b[38;5;241;43m=\u001b[39;49m\u001b[38;5;28;43mself\u001b[39;49m\u001b[38;5;241;43m.\u001b[39;49m\u001b[43mmodel_module\u001b[49m\u001b[43m,\u001b[49m\n\u001b[1;32m    311\u001b[0m \u001b[43m    \u001b[49m\u001b[43mdataloaders\u001b[49m\u001b[38;5;241;43m=\u001b[39;49m\u001b[38;5;28;43mself\u001b[39;49m\u001b[38;5;241;43m.\u001b[39;49m\u001b[43mdata_module\u001b[49m\u001b[43m,\u001b[49m\n\u001b[1;32m    312\u001b[0m \u001b[43m    \u001b[49m\u001b[43mckpt_path\u001b[49m\u001b[38;5;241;43m=\u001b[39;49m\u001b[38;5;28;43mself\u001b[39;49m\u001b[38;5;241;43m.\u001b[39;49m\u001b[43mckpt_config\u001b[49m\u001b[38;5;241;43m.\u001b[39;49m\u001b[43mckpt_path\u001b[49m\u001b[43m,\u001b[49m\n\u001b[1;32m    313\u001b[0m \u001b[43m    \u001b[49m\u001b[43mreturn_predictions\u001b[49m\u001b[38;5;241;43m=\u001b[39;49m\u001b[38;5;28;43;01mFalse\u001b[39;49;00m\u001b[43m,\u001b[49m\n\u001b[1;32m    314\u001b[0m \u001b[43m\u001b[49m\u001b[43m)\u001b[49m\n\u001b[1;32m    315\u001b[0m \u001b[38;5;28mself\u001b[39m\u001b[38;5;241m.\u001b[39mfinish()\n",
      "File \u001b[0;32m~/miniconda3/envs/yuccaenv/lib/python3.11/site-packages/lightning/pytorch/trainer/trainer.py:864\u001b[0m, in \u001b[0;36mTrainer.predict\u001b[0;34m(self, model, dataloaders, datamodule, return_predictions, ckpt_path)\u001b[0m\n\u001b[1;32m    862\u001b[0m \u001b[38;5;28mself\u001b[39m\u001b[38;5;241m.\u001b[39mstate\u001b[38;5;241m.\u001b[39mstatus \u001b[38;5;241m=\u001b[39m TrainerStatus\u001b[38;5;241m.\u001b[39mRUNNING\n\u001b[1;32m    863\u001b[0m \u001b[38;5;28mself\u001b[39m\u001b[38;5;241m.\u001b[39mpredicting \u001b[38;5;241m=\u001b[39m \u001b[38;5;28;01mTrue\u001b[39;00m\n\u001b[0;32m--> 864\u001b[0m \u001b[38;5;28;01mreturn\u001b[39;00m \u001b[43mcall\u001b[49m\u001b[38;5;241;43m.\u001b[39;49m\u001b[43m_call_and_handle_interrupt\u001b[49m\u001b[43m(\u001b[49m\n\u001b[1;32m    865\u001b[0m \u001b[43m    \u001b[49m\u001b[38;5;28;43mself\u001b[39;49m\u001b[43m,\u001b[49m\u001b[43m \u001b[49m\u001b[38;5;28;43mself\u001b[39;49m\u001b[38;5;241;43m.\u001b[39;49m\u001b[43m_predict_impl\u001b[49m\u001b[43m,\u001b[49m\u001b[43m \u001b[49m\u001b[43mmodel\u001b[49m\u001b[43m,\u001b[49m\u001b[43m \u001b[49m\u001b[43mdataloaders\u001b[49m\u001b[43m,\u001b[49m\u001b[43m \u001b[49m\u001b[43mdatamodule\u001b[49m\u001b[43m,\u001b[49m\u001b[43m \u001b[49m\u001b[43mreturn_predictions\u001b[49m\u001b[43m,\u001b[49m\u001b[43m \u001b[49m\u001b[43mckpt_path\u001b[49m\n\u001b[1;32m    866\u001b[0m \u001b[43m\u001b[49m\u001b[43m)\u001b[49m\n",
      "File \u001b[0;32m~/miniconda3/envs/yuccaenv/lib/python3.11/site-packages/lightning/pytorch/trainer/call.py:44\u001b[0m, in \u001b[0;36m_call_and_handle_interrupt\u001b[0;34m(trainer, trainer_fn, *args, **kwargs)\u001b[0m\n\u001b[1;32m     42\u001b[0m     \u001b[38;5;28;01mif\u001b[39;00m trainer\u001b[38;5;241m.\u001b[39mstrategy\u001b[38;5;241m.\u001b[39mlauncher \u001b[38;5;129;01mis\u001b[39;00m \u001b[38;5;129;01mnot\u001b[39;00m \u001b[38;5;28;01mNone\u001b[39;00m:\n\u001b[1;32m     43\u001b[0m         \u001b[38;5;28;01mreturn\u001b[39;00m trainer\u001b[38;5;241m.\u001b[39mstrategy\u001b[38;5;241m.\u001b[39mlauncher\u001b[38;5;241m.\u001b[39mlaunch(trainer_fn, \u001b[38;5;241m*\u001b[39margs, trainer\u001b[38;5;241m=\u001b[39mtrainer, \u001b[38;5;241m*\u001b[39m\u001b[38;5;241m*\u001b[39mkwargs)\n\u001b[0;32m---> 44\u001b[0m     \u001b[38;5;28;01mreturn\u001b[39;00m \u001b[43mtrainer_fn\u001b[49m\u001b[43m(\u001b[49m\u001b[38;5;241;43m*\u001b[39;49m\u001b[43margs\u001b[49m\u001b[43m,\u001b[49m\u001b[43m \u001b[49m\u001b[38;5;241;43m*\u001b[39;49m\u001b[38;5;241;43m*\u001b[39;49m\u001b[43mkwargs\u001b[49m\u001b[43m)\u001b[49m\n\u001b[1;32m     46\u001b[0m \u001b[38;5;28;01mexcept\u001b[39;00m _TunerExitException:\n\u001b[1;32m     47\u001b[0m     _call_teardown_hook(trainer)\n",
      "File \u001b[0;32m~/miniconda3/envs/yuccaenv/lib/python3.11/site-packages/lightning/pytorch/trainer/trainer.py:903\u001b[0m, in \u001b[0;36mTrainer._predict_impl\u001b[0;34m(self, model, dataloaders, datamodule, return_predictions, ckpt_path)\u001b[0m\n\u001b[1;32m    899\u001b[0m \u001b[38;5;28;01massert\u001b[39;00m \u001b[38;5;28mself\u001b[39m\u001b[38;5;241m.\u001b[39mstate\u001b[38;5;241m.\u001b[39mfn \u001b[38;5;129;01mis\u001b[39;00m \u001b[38;5;129;01mnot\u001b[39;00m \u001b[38;5;28;01mNone\u001b[39;00m\n\u001b[1;32m    900\u001b[0m ckpt_path \u001b[38;5;241m=\u001b[39m \u001b[38;5;28mself\u001b[39m\u001b[38;5;241m.\u001b[39m_checkpoint_connector\u001b[38;5;241m.\u001b[39m_select_ckpt_path(\n\u001b[1;32m    901\u001b[0m     \u001b[38;5;28mself\u001b[39m\u001b[38;5;241m.\u001b[39mstate\u001b[38;5;241m.\u001b[39mfn, ckpt_path, model_provided\u001b[38;5;241m=\u001b[39mmodel_provided, model_connected\u001b[38;5;241m=\u001b[39m\u001b[38;5;28mself\u001b[39m\u001b[38;5;241m.\u001b[39mlightning_module \u001b[38;5;129;01mis\u001b[39;00m \u001b[38;5;129;01mnot\u001b[39;00m \u001b[38;5;28;01mNone\u001b[39;00m\n\u001b[1;32m    902\u001b[0m )\n\u001b[0;32m--> 903\u001b[0m results \u001b[38;5;241m=\u001b[39m \u001b[38;5;28;43mself\u001b[39;49m\u001b[38;5;241;43m.\u001b[39;49m\u001b[43m_run\u001b[49m\u001b[43m(\u001b[49m\u001b[43mmodel\u001b[49m\u001b[43m,\u001b[49m\u001b[43m \u001b[49m\u001b[43mckpt_path\u001b[49m\u001b[38;5;241;43m=\u001b[39;49m\u001b[43mckpt_path\u001b[49m\u001b[43m)\u001b[49m\n\u001b[1;32m    905\u001b[0m \u001b[38;5;28;01massert\u001b[39;00m \u001b[38;5;28mself\u001b[39m\u001b[38;5;241m.\u001b[39mstate\u001b[38;5;241m.\u001b[39mstopped\n\u001b[1;32m    906\u001b[0m \u001b[38;5;28mself\u001b[39m\u001b[38;5;241m.\u001b[39mpredicting \u001b[38;5;241m=\u001b[39m \u001b[38;5;28;01mFalse\u001b[39;00m\n",
      "File \u001b[0;32m~/miniconda3/envs/yuccaenv/lib/python3.11/site-packages/lightning/pytorch/trainer/trainer.py:987\u001b[0m, in \u001b[0;36mTrainer._run\u001b[0;34m(self, model, ckpt_path)\u001b[0m\n\u001b[1;32m    982\u001b[0m \u001b[38;5;28mself\u001b[39m\u001b[38;5;241m.\u001b[39m_signal_connector\u001b[38;5;241m.\u001b[39mregister_signal_handlers()\n\u001b[1;32m    984\u001b[0m \u001b[38;5;66;03m# ----------------------------\u001b[39;00m\n\u001b[1;32m    985\u001b[0m \u001b[38;5;66;03m# RUN THE TRAINER\u001b[39;00m\n\u001b[1;32m    986\u001b[0m \u001b[38;5;66;03m# ----------------------------\u001b[39;00m\n\u001b[0;32m--> 987\u001b[0m results \u001b[38;5;241m=\u001b[39m \u001b[38;5;28;43mself\u001b[39;49m\u001b[38;5;241;43m.\u001b[39;49m\u001b[43m_run_stage\u001b[49m\u001b[43m(\u001b[49m\u001b[43m)\u001b[49m\n\u001b[1;32m    989\u001b[0m \u001b[38;5;66;03m# ----------------------------\u001b[39;00m\n\u001b[1;32m    990\u001b[0m \u001b[38;5;66;03m# POST-Training CLEAN UP\u001b[39;00m\n\u001b[1;32m    991\u001b[0m \u001b[38;5;66;03m# ----------------------------\u001b[39;00m\n\u001b[1;32m    992\u001b[0m log\u001b[38;5;241m.\u001b[39mdebug(\u001b[38;5;124mf\u001b[39m\u001b[38;5;124m\"\u001b[39m\u001b[38;5;132;01m{\u001b[39;00m\u001b[38;5;28mself\u001b[39m\u001b[38;5;241m.\u001b[39m\u001b[38;5;18m__class__\u001b[39m\u001b[38;5;241m.\u001b[39m\u001b[38;5;18m__name__\u001b[39m\u001b[38;5;132;01m}\u001b[39;00m\u001b[38;5;124m: trainer tearing down\u001b[39m\u001b[38;5;124m\"\u001b[39m)\n",
      "File \u001b[0;32m~/miniconda3/envs/yuccaenv/lib/python3.11/site-packages/lightning/pytorch/trainer/trainer.py:1028\u001b[0m, in \u001b[0;36mTrainer._run_stage\u001b[0;34m(self)\u001b[0m\n\u001b[1;32m   1026\u001b[0m     \u001b[38;5;28;01mreturn\u001b[39;00m \u001b[38;5;28mself\u001b[39m\u001b[38;5;241m.\u001b[39m_evaluation_loop\u001b[38;5;241m.\u001b[39mrun()\n\u001b[1;32m   1027\u001b[0m \u001b[38;5;28;01mif\u001b[39;00m \u001b[38;5;28mself\u001b[39m\u001b[38;5;241m.\u001b[39mpredicting:\n\u001b[0;32m-> 1028\u001b[0m     \u001b[38;5;28;01mreturn\u001b[39;00m \u001b[38;5;28;43mself\u001b[39;49m\u001b[38;5;241;43m.\u001b[39;49m\u001b[43mpredict_loop\u001b[49m\u001b[38;5;241;43m.\u001b[39;49m\u001b[43mrun\u001b[49m\u001b[43m(\u001b[49m\u001b[43m)\u001b[49m\n\u001b[1;32m   1029\u001b[0m \u001b[38;5;28;01mif\u001b[39;00m \u001b[38;5;28mself\u001b[39m\u001b[38;5;241m.\u001b[39mtraining:\n\u001b[1;32m   1030\u001b[0m     \u001b[38;5;28;01mwith\u001b[39;00m isolate_rng():\n",
      "File \u001b[0;32m~/miniconda3/envs/yuccaenv/lib/python3.11/site-packages/lightning/pytorch/loops/utilities.py:182\u001b[0m, in \u001b[0;36m_no_grad_context.<locals>._decorator\u001b[0;34m(self, *args, **kwargs)\u001b[0m\n\u001b[1;32m    180\u001b[0m     context_manager \u001b[38;5;241m=\u001b[39m torch\u001b[38;5;241m.\u001b[39mno_grad\n\u001b[1;32m    181\u001b[0m \u001b[38;5;28;01mwith\u001b[39;00m context_manager():\n\u001b[0;32m--> 182\u001b[0m     \u001b[38;5;28;01mreturn\u001b[39;00m \u001b[43mloop_run\u001b[49m\u001b[43m(\u001b[49m\u001b[38;5;28;43mself\u001b[39;49m\u001b[43m,\u001b[49m\u001b[43m \u001b[49m\u001b[38;5;241;43m*\u001b[39;49m\u001b[43margs\u001b[49m\u001b[43m,\u001b[49m\u001b[43m \u001b[49m\u001b[38;5;241;43m*\u001b[39;49m\u001b[38;5;241;43m*\u001b[39;49m\u001b[43mkwargs\u001b[49m\u001b[43m)\u001b[49m\n",
      "File \u001b[0;32m~/miniconda3/envs/yuccaenv/lib/python3.11/site-packages/lightning/pytorch/loops/prediction_loop.py:108\u001b[0m, in \u001b[0;36m_PredictionLoop.run\u001b[0;34m(self)\u001b[0m\n\u001b[1;32m    106\u001b[0m     \u001b[38;5;28;01mreturn\u001b[39;00m \u001b[38;5;28;01mNone\u001b[39;00m\n\u001b[1;32m    107\u001b[0m \u001b[38;5;28mself\u001b[39m\u001b[38;5;241m.\u001b[39mreset()\n\u001b[0;32m--> 108\u001b[0m \u001b[38;5;28;43mself\u001b[39;49m\u001b[38;5;241;43m.\u001b[39;49m\u001b[43mon_run_start\u001b[49m\u001b[43m(\u001b[49m\u001b[43m)\u001b[49m\n\u001b[1;32m    109\u001b[0m data_fetcher \u001b[38;5;241m=\u001b[39m \u001b[38;5;28mself\u001b[39m\u001b[38;5;241m.\u001b[39m_data_fetcher\n\u001b[1;32m    110\u001b[0m \u001b[38;5;28;01massert\u001b[39;00m data_fetcher \u001b[38;5;129;01mis\u001b[39;00m \u001b[38;5;129;01mnot\u001b[39;00m \u001b[38;5;28;01mNone\u001b[39;00m\n",
      "File \u001b[0;32m~/miniconda3/envs/yuccaenv/lib/python3.11/site-packages/lightning/pytorch/loops/prediction_loop.py:197\u001b[0m, in \u001b[0;36m_PredictionLoop.on_run_start\u001b[0;34m(self)\u001b[0m\n\u001b[1;32m    195\u001b[0m \u001b[38;5;28mself\u001b[39m\u001b[38;5;241m.\u001b[39m_verify_dataloader_idx_requirement()\n\u001b[1;32m    196\u001b[0m \u001b[38;5;28mself\u001b[39m\u001b[38;5;241m.\u001b[39m_on_predict_model_eval()\n\u001b[0;32m--> 197\u001b[0m \u001b[38;5;28;43mself\u001b[39;49m\u001b[38;5;241;43m.\u001b[39;49m\u001b[43m_on_predict_start\u001b[49m\u001b[43m(\u001b[49m\u001b[43m)\u001b[49m\n\u001b[1;32m    198\u001b[0m \u001b[38;5;28mself\u001b[39m\u001b[38;5;241m.\u001b[39m_on_predict_epoch_start()\n",
      "File \u001b[0;32m~/miniconda3/envs/yuccaenv/lib/python3.11/site-packages/lightning/pytorch/loops/prediction_loop.py:343\u001b[0m, in \u001b[0;36m_PredictionLoop._on_predict_start\u001b[0;34m(self)\u001b[0m\n\u001b[1;32m    341\u001b[0m trainer \u001b[38;5;241m=\u001b[39m \u001b[38;5;28mself\u001b[39m\u001b[38;5;241m.\u001b[39mtrainer\n\u001b[1;32m    342\u001b[0m call\u001b[38;5;241m.\u001b[39m_call_callback_hooks(trainer, \u001b[38;5;124m\"\u001b[39m\u001b[38;5;124mon_predict_start\u001b[39m\u001b[38;5;124m\"\u001b[39m)\n\u001b[0;32m--> 343\u001b[0m \u001b[43mcall\u001b[49m\u001b[38;5;241;43m.\u001b[39;49m\u001b[43m_call_lightning_module_hook\u001b[49m\u001b[43m(\u001b[49m\u001b[43mtrainer\u001b[49m\u001b[43m,\u001b[49m\u001b[43m \u001b[49m\u001b[38;5;124;43m\"\u001b[39;49m\u001b[38;5;124;43mon_predict_start\u001b[39;49m\u001b[38;5;124;43m\"\u001b[39;49m\u001b[43m)\u001b[49m\n\u001b[1;32m    344\u001b[0m call\u001b[38;5;241m.\u001b[39m_call_strategy_hook(trainer, \u001b[38;5;124m\"\u001b[39m\u001b[38;5;124mon_predict_start\u001b[39m\u001b[38;5;124m\"\u001b[39m)\n",
      "File \u001b[0;32m~/miniconda3/envs/yuccaenv/lib/python3.11/site-packages/lightning/pytorch/trainer/call.py:157\u001b[0m, in \u001b[0;36m_call_lightning_module_hook\u001b[0;34m(trainer, hook_name, pl_module, *args, **kwargs)\u001b[0m\n\u001b[1;32m    154\u001b[0m pl_module\u001b[38;5;241m.\u001b[39m_current_fx_name \u001b[38;5;241m=\u001b[39m hook_name\n\u001b[1;32m    156\u001b[0m \u001b[38;5;28;01mwith\u001b[39;00m trainer\u001b[38;5;241m.\u001b[39mprofiler\u001b[38;5;241m.\u001b[39mprofile(\u001b[38;5;124mf\u001b[39m\u001b[38;5;124m\"\u001b[39m\u001b[38;5;124m[LightningModule]\u001b[39m\u001b[38;5;132;01m{\u001b[39;00mpl_module\u001b[38;5;241m.\u001b[39m\u001b[38;5;18m__class__\u001b[39m\u001b[38;5;241m.\u001b[39m\u001b[38;5;18m__name__\u001b[39m\u001b[38;5;132;01m}\u001b[39;00m\u001b[38;5;124m.\u001b[39m\u001b[38;5;132;01m{\u001b[39;00mhook_name\u001b[38;5;132;01m}\u001b[39;00m\u001b[38;5;124m\"\u001b[39m):\n\u001b[0;32m--> 157\u001b[0m     output \u001b[38;5;241m=\u001b[39m \u001b[43mfn\u001b[49m\u001b[43m(\u001b[49m\u001b[38;5;241;43m*\u001b[39;49m\u001b[43margs\u001b[49m\u001b[43m,\u001b[49m\u001b[43m \u001b[49m\u001b[38;5;241;43m*\u001b[39;49m\u001b[38;5;241;43m*\u001b[39;49m\u001b[43mkwargs\u001b[49m\u001b[43m)\u001b[49m\n\u001b[1;32m    159\u001b[0m \u001b[38;5;66;03m# restore current_fx when nested context\u001b[39;00m\n\u001b[1;32m    160\u001b[0m pl_module\u001b[38;5;241m.\u001b[39m_current_fx_name \u001b[38;5;241m=\u001b[39m prev_fx_name\n",
      "File \u001b[0;32m~/Desktop/Projects/repos/yucca/yucca/lightning_modules/YuccaLightningModule.py:232\u001b[0m, in \u001b[0;36mYuccaLightningModule.on_predict_start\u001b[0;34m(self)\u001b[0m\n\u001b[1;32m    231\u001b[0m \u001b[38;5;28;01mdef\u001b[39;00m \u001b[38;5;21mon_predict_start\u001b[39m(\u001b[38;5;28mself\u001b[39m):\n\u001b[0;32m--> 232\u001b[0m     preprocessor_class \u001b[38;5;241m=\u001b[39m \u001b[43mrecursive_find_python_class\u001b[49m\u001b[43m(\u001b[49m\n\u001b[1;32m    233\u001b[0m \u001b[43m        \u001b[49m\u001b[43mfolder\u001b[49m\u001b[38;5;241;43m=\u001b[39;49m\u001b[43m[\u001b[49m\u001b[43mjoin\u001b[49m\u001b[43m(\u001b[49m\u001b[43myucca\u001b[49m\u001b[38;5;241;43m.\u001b[39;49m\u001b[43m__path__\u001b[49m\u001b[43m[\u001b[49m\u001b[38;5;241;43m0\u001b[39;49m\u001b[43m]\u001b[49m\u001b[43m,\u001b[49m\u001b[43m \u001b[49m\u001b[38;5;124;43m\"\u001b[39;49m\u001b[38;5;124;43mpipeline\u001b[39;49m\u001b[38;5;124;43m\"\u001b[39;49m\u001b[43m,\u001b[49m\u001b[43m \u001b[49m\u001b[38;5;124;43m\"\u001b[39;49m\u001b[38;5;124;43mpreprocessing\u001b[39;49m\u001b[38;5;124;43m\"\u001b[39;49m\u001b[43m)\u001b[49m\u001b[43m]\u001b[49m\u001b[43m,\u001b[49m\n\u001b[1;32m    234\u001b[0m \u001b[43m        \u001b[49m\u001b[43mclass_name\u001b[49m\u001b[38;5;241;43m=\u001b[39;49m\u001b[38;5;28;43mself\u001b[39;49m\u001b[38;5;241;43m.\u001b[39;49m\u001b[43mplans\u001b[49m\u001b[43m[\u001b[49m\u001b[38;5;124;43m\"\u001b[39;49m\u001b[38;5;124;43mpreprocessor\u001b[39;49m\u001b[38;5;124;43m\"\u001b[39;49m\u001b[43m]\u001b[49m\u001b[43m,\u001b[49m\n\u001b[1;32m    235\u001b[0m \u001b[43m        \u001b[49m\u001b[43mcurrent_module\u001b[49m\u001b[38;5;241;43m=\u001b[39;49m\u001b[38;5;124;43m\"\u001b[39;49m\u001b[38;5;124;43myucca.pipeline.preprocessing\u001b[39;49m\u001b[38;5;124;43m\"\u001b[39;49m\u001b[43m,\u001b[49m\n\u001b[1;32m    236\u001b[0m \u001b[43m    \u001b[49m\u001b[43m)\u001b[49m\n\u001b[1;32m    237\u001b[0m     \u001b[38;5;28mself\u001b[39m\u001b[38;5;241m.\u001b[39mpreprocessor \u001b[38;5;241m=\u001b[39m preprocessor_class(join(\u001b[38;5;28mself\u001b[39m\u001b[38;5;241m.\u001b[39mversion_dir, \u001b[38;5;124m\"\u001b[39m\u001b[38;5;124mhparams.yaml\u001b[39m\u001b[38;5;124m\"\u001b[39m))\n",
      "File \u001b[0;32m~/Desktop/Projects/repos/yucca/yucca/functional/utils/files_and_folders.py:152\u001b[0m, in \u001b[0;36mrecursive_find_python_class\u001b[0;34m(folder, class_name, current_module)\u001b[0m\n\u001b[1;32m    148\u001b[0m     \u001b[38;5;28;01mreturn\u001b[39;00m tr\n\u001b[1;32m    150\u001b[0m found_python_class \u001b[38;5;241m=\u001b[39m _recursive_find_python_class(folder, class_name, current_module)\n\u001b[1;32m    151\u001b[0m \u001b[38;5;28;01massert\u001b[39;00m (\n\u001b[0;32m--> 152\u001b[0m     found_python_class \u001b[38;5;129;01mis\u001b[39;00m \u001b[38;5;129;01mnot\u001b[39;00m \u001b[38;5;28;01mNone\u001b[39;00m\n\u001b[1;32m    153\u001b[0m ), \u001b[38;5;124mf\u001b[39m\u001b[38;5;124m\"\u001b[39m\u001b[38;5;124mDid not find any python class called \u001b[39m\u001b[38;5;132;01m{\u001b[39;00mclass_name\u001b[38;5;132;01m}\u001b[39;00m\u001b[38;5;124m. Make sure there\u001b[39m\u001b[38;5;124m'\u001b[39m\u001b[38;5;124ms no typos (and that the class actually exists)\u001b[39m\u001b[38;5;124m\"\u001b[39m\n\u001b[1;32m    154\u001b[0m \u001b[38;5;28;01mreturn\u001b[39;00m found_python_class\n",
      "\u001b[0;31mAssertionError\u001b[0m: Did not find any python class called . Make sure there's no typos (and that the class actually exists)"
     ]
    }
   ],
   "source": [
    "manager.predict_folder(\n",
    "    target_data_path,\n",
    "    overwrite_predictions=False,\n",
    "    output_folder=save_path,\n",
    ")"
   ]
  },
  {
   "cell_type": "code",
   "execution_count": null,
   "metadata": {},
   "outputs": [],
   "source": [
    "evaluator = YuccaEvaluator(\n",
    "    manager.model_module.num_classes,\n",
    "    folder_with_predictions=outpath,\n",
    "    folder_with_ground_truth=ground_truth,\n",
    "    overwrite=overwrite,\n",
    "    task_type=task_type,\n",
    "    use_wandb=use_wandb,\n",
    "    strict=strict,\n",
    ")\n",
    "evaluator.run()"
   ]
  }
 ],
 "metadata": {
  "kernelspec": {
   "display_name": "yuccaenv",
   "language": "python",
   "name": "python3"
  },
  "language_info": {
   "codemirror_mode": {
    "name": "ipython",
    "version": 3
   },
   "file_extension": ".py",
   "mimetype": "text/x-python",
   "name": "python",
   "nbconvert_exporter": "python",
   "pygments_lexer": "ipython3",
   "version": "3.11.7"
  }
 },
 "nbformat": 4,
 "nbformat_minor": 2
}
