{
 "cells": [
  {
   "cell_type": "code",
   "execution_count": 1,
   "metadata": {},
   "outputs": [],
   "source": [
    "import os\n",
    "from batchgenerators.utilities.file_and_folder_operations import maybe_mkdir_p\n",
    "from yucca.pipeline.managers.YuccaManager import YuccaManager\n",
    "from yucca.paths import yucca_models, yucca_results, yucca_raw_data, yucca_preprocessed_data"
   ]
  },
  {
   "cell_type": "markdown",
   "metadata": {},
   "source": [
    "Set some variables for loading the model"
   ]
  },
  {
   "cell_type": "code",
   "execution_count": 2,
   "metadata": {},
   "outputs": [],
   "source": [
    "task = \"Task001_OASIS\"\n",
    "plans_name = \"demo\"\n",
    "model_name = \"TinyUNet\"\n",
    "dims = \"2D\"\n",
    "manager_name = \"YuccaManager\"\n",
    "\n",
    "ckpt_path = os.path.join(\n",
    "    yucca_models,\n",
    "    task,\n",
    "    model_name + \"__\" + dims,\n",
    "    manager_name + \"__\" + plans_name,\n",
    "    \"default\",\n",
    "    \"kfold_5_fold_0\",\n",
    "    \"version_0\",\n",
    "    \"checkpoints\",\n",
    "    \"best.ckpt\",\n",
    ")"
   ]
  },
  {
   "cell_type": "code",
   "execution_count": 3,
   "metadata": {},
   "outputs": [],
   "source": [
    "manager = YuccaManager(\n",
    "    ckpt_path=ckpt_path,\n",
    "    enable_logging=False,\n",
    "    model_name=model_name,\n",
    "    model_dimensions=dims,\n",
    "    task=task,\n",
    "    planner=plans_name,\n",
    ")"
   ]
  },
  {
   "cell_type": "markdown",
   "metadata": {},
   "source": [
    "Set some variables for inference"
   ]
  },
  {
   "cell_type": "code",
   "execution_count": 4,
   "metadata": {},
   "outputs": [],
   "source": [
    "target_task = \"Task001_OASIS\"\n",
    "target_data_path = os.path.join(yucca_preprocessed_data, target_task + \"_test\", \"demo\")\n",
    "save_path = os.path.join(\n",
    "    yucca_results,\n",
    "    task,\n",
    "    target_task,\n",
    "    model_name + \"__\" + dims,\n",
    "    manager_name + \"__\" + plans_name,\n",
    "    \"kfold_5_fold_0\",\n",
    "    \"version_0\",\n",
    "    \"best\",\n",
    ")\n",
    "maybe_mkdir_p(save_path)"
   ]
  },
  {
   "cell_type": "code",
   "execution_count": 5,
   "metadata": {},
   "outputs": [
    {
     "name": "stderr",
     "output_type": "stream",
     "text": [
      "INFO:root:Using ckpt file: /Users/zcr545/Desktop/Projects/repos/yucca_data/models/Task001_OASIS/TinyUNet__2D/YuccaManager__demo/default/kfold_5_fold_0/version_0/checkpoints/best.ckpt\n",
      "Seed set to 805105348\n",
      "INFO:root:Using patch size found in checkpoint: (32, 32)\n",
      "INFO:root:Using batch size: 1 and patch size: (32, 32)\n",
      "INFO:root:YuccaLightningModule initialized with the following config: {'continue_from_most_recent': True, 'experiment': 'default', 'manager_name': 'YuccaManager', 'model_dimensions': '2D', 'model_name': 'TinyUNet', 'patch_based_training': True, 'planner_name': 'demo', 'task': 'Task001_OASIS', 'split_idx': 0, 'split_method': None, 'split_param': None, 'plans_path': '/Users/zcr545/Desktop/Projects/repos/yucca_data/preprocessed/Task001_OASIS/demo/demo_plans.json', 'save_dir': '/Users/zcr545/Desktop/Projects/repos/yucca_data/models/Task001_OASIS/TinyUNet__2D/YuccaManager__demo/default/kfold_5_fold_0', 'train_data_dir': '/Users/zcr545/Desktop/Projects/repos/yucca_data/preprocessed/Task001_OASIS/demo', 'version_dir': '/Users/zcr545/Desktop/Projects/repos/yucca_data/models/Task001_OASIS/TinyUNet__2D/YuccaManager__demo/default/kfold_5_fold_0/version_0', 'version': 0, 'base_experiment': 'default', 'ckpt_path': '/Users/zcr545/Desktop/Projects/repos/yucca_data/models/Task001_OASIS/TinyUNet__2D/YuccaManager__demo/default/kfold_5_fold_0/version_0/checkpoints/best.ckpt', 'ckpt_patch_size': (32, 32), 'ckpt_seed': 805105348, 'ckpt_plans': {'target_coordinate_system': 'RAS', 'preprocessor': '', 'crop_to_nonzero': True, 'normalization_scheme': ['volume_wise_znorm'], 'num_classes': 3, 'num_modalities': 1, 'transpose_forward': [0, 1, 2], 'transpose_backward': [0, 1, 2], 'keep_aspect_ratio_when_using_target_size': True, 'target_size': None, 'target_spacing': [1.0, 1.0, 1.0], 'task_type': 'segmentation', 'dataset_properties': {}, 'plans_name': 'demo', 'suggested_dimensionality': '3D', 'allow_missing_modalities': False, 'n_foreground_locs': [1, 1, 1, 1, 1, 1, 1, 1, 1, 1, 1, 1, 1, 1, 1], 'new_mean_size': [135, 177, 131], 'new_min_size': [127, 164, 124], 'new_max_size': [148, 186, 136], 'mean_cc_size': 0, 'max_cc_size': 0, 'min_cc_size': 0, 'mean_n_cc': 0, 'max_n_cc': 0, 'min_n_cc': 0}, 'ckpt_version_dir': '/Users/zcr545/Desktop/Projects/repos/yucca_data/models/Task001_OASIS/TinyUNet__2D/YuccaManager__demo/default/kfold_5_fold_0/version_0', 'ckpt_wandb_id': 'None', 'seed': 805105348, 'allow_missing_modalities': False, 'image_extension': 'nii.gz', 'num_classes': 3, 'plans': {'target_coordinate_system': 'RAS', 'preprocessor': '', 'crop_to_nonzero': True, 'normalization_scheme': ['volume_wise_znorm'], 'num_classes': 3, 'num_modalities': 1, 'transpose_forward': [0, 1, 2], 'transpose_backward': [0, 1, 2], 'keep_aspect_ratio_when_using_target_size': True, 'target_size': None, 'target_spacing': [1.0, 1.0, 1.0], 'task_type': 'segmentation', 'dataset_properties': {}, 'plans_name': 'demo', 'suggested_dimensionality': '3D', 'allow_missing_modalities': False, 'n_foreground_locs': [1, 1, 1, 1, 1, 1, 1, 1, 1, 1, 1, 1, 1, 1, 1], 'new_mean_size': [135, 177, 131], 'new_min_size': [127, 164, 124], 'new_max_size': [148, 186, 136], 'mean_cc_size': 0, 'max_cc_size': 0, 'min_cc_size': 0, 'mean_n_cc': 0, 'max_n_cc': 0, 'min_n_cc': 0}, 'task_type': 'segmentation', 'regions_in_order': None, 'regions_labeled': None, 'use_label_regions': False, 'batch_size': 1, 'patch_size': (32, 32), 'num_modalities': 1, 'wandb_id': 'None', 'augmentation_parameters': {'deep_supervision': False, 'pre_aug_patch_size': (45, 45), 'random_crop': False, 'cval': 'min', 'mask_image_for_reconstruction': False, 'patch_size': (32, 32), 'skip_label': False, 'label_dtype': <class 'int'>, 'copy_image_to_label': False, 'convert_labels_to_regions': False, 'additive_noise_p_per_sample': 0.2, 'additive_noise_mean': (0.0, 0.0), 'additive_noise_sigma': (0.001, 0.0001), 'biasfield_p_per_sample': 0.33, 'blurring_p_per_sample': 0.2, 'blurring_sigma': (0.0, 1.0), 'blurring_p_per_channel': 0.5, 'elastic_deform_p_per_sample': 0.33, 'elastic_deform_alpha': (200, 600), 'elastic_deform_sigma': (20, 30), 'gamma_p_per_sample': 0.2, 'gamma_p_invert_image': 0.05, 'gamma_range': (0.5, 2.0), 'gibbs_ringing_p_per_sample': 0.2, 'gibbs_ringing_cut_freq': (96, 129), 'gibbs_ringing_axes': (0, 2), 'mask_ratio': 0.5, 'mirror_p_per_sample': 0.0, 'mirror_p_per_axis': 0.33, 'mirror_axes': (0, 1), 'motion_ghosting_p_per_sample': 0.2, 'motion_ghosting_alpha': (0.85, 0.95), 'motion_ghosting_num_reps': (2, 11), 'motion_ghosting_axes': (0, 2), 'multiplicative_noise_p_per_sample': 0.2, 'multiplicative_noise_mean': (0, 0), 'multiplicative_noise_sigma': (0.001, 0.0001), 'rotation_p_per_sample': 0.2, 'rotation_p_per_axis': 0.66, 'rotation_x': (-30.0, 30.0), 'rotation_y': (-0.0, 0.0), 'rotation_z': (-0.0, 0.0), 'scale_p_per_sample': 0.2, 'scale_factor': (0.9, 1.1), 'simulate_lowres_p_per_sample': 0.2, 'simulate_lowres_p_per_channel': 0.5, 'simulate_lowres_p_per_axis': 0.33, 'simulate_lowres_zoom_range': (0.5, 1.0)}}\n",
      "INFO:root:Deep Supervision Enabled: False\n",
      "INFO:root:Loading Model: 2D TinyUNet\n",
      "/Users/zcr545/miniconda3/envs/yuccaenv/lib/python3.11/site-packages/tqdm/auto.py:21: TqdmWarning: IProgress not found. Please update jupyter and ipywidgets. See https://ipywidgets.readthedocs.io/en/stable/user_install.html\n",
      "  from .autonotebook import tqdm as notebook_tqdm\n"
     ]
    },
    {
     "name": "stdout",
     "output_type": "stream",
     "text": [
      "Composing Transforms\n"
     ]
    },
    {
     "name": "stderr",
     "output_type": "stream",
     "text": [
      "INFO:root:Using 9 workers\n",
      "INFO:root:Using dataset class: <class 'yucca.data.datasets.YuccaDataset.YuccaTrainDataset'> for train/val and <class 'yucca.data.datasets.YuccaDataset.YuccaTestPreprocessedDataset'> for inference\n",
      "INFO:root:\n",
      "| module                      | #parameters or shape   | #flops     |\n",
      "|:----------------------------|:-----------------------|:-----------|\n",
      "| model                       | 7.567K                 | 1.722M     |\n",
      "|  in_conv                    |  0.204K                |  0.225M    |\n",
      "|   in_conv.conv1             |   48                   |   57.344K  |\n",
      "|    in_conv.conv1.conv       |    40                  |    36.864K |\n",
      "|    in_conv.conv1.norm       |    8                   |    20.48K  |\n",
      "|   in_conv.conv2             |   0.156K               |   0.168M   |\n",
      "|    in_conv.conv2.conv       |    0.148K              |    0.147M  |\n",
      "|    in_conv.conv2.norm       |    8                   |    20.48K  |\n",
      "|  encoder_conv1              |  0.912K                |  0.242M    |\n",
      "|   encoder_conv1.conv1       |   0.312K               |   83.968K  |\n",
      "|    encoder_conv1.conv1.conv |    0.296K              |    73.728K |\n",
      "|    encoder_conv1.conv1.norm |    16                  |    10.24K  |\n",
      "|   encoder_conv1.conv2       |   0.6K                 |   0.158M   |\n",
      "|    encoder_conv1.conv2.conv |    0.584K              |    0.147M  |\n",
      "|    encoder_conv1.conv2.norm |    16                  |    10.24K  |\n",
      "|  encoder_conv2              |  3.552K                |  0.231M    |\n",
      "|   encoder_conv2.conv1       |   1.2K                 |   78.848K  |\n",
      "|    encoder_conv2.conv1.conv |    1.168K              |    73.728K |\n",
      "|    encoder_conv2.conv1.norm |    32                  |    5.12K   |\n",
      "|   encoder_conv2.conv2       |   2.352K               |   0.153M   |\n",
      "|    encoder_conv2.conv2.conv |    2.32K               |    0.147M  |\n",
      "|    encoder_conv2.conv2.norm |    32                  |    5.12K   |\n",
      "|  upsample1                  |  0.52K                 |  32.768K   |\n",
      "|   upsample1.weight          |   (16, 8, 2, 2)        |            |\n",
      "|   upsample1.bias            |   (8,)                 |            |\n",
      "|  decoder_conv1              |  1.776K                |  0.463M    |\n",
      "|   decoder_conv1.conv1       |   1.176K               |   0.305M   |\n",
      "|    decoder_conv1.conv1.conv |    1.16K               |    0.295M  |\n",
      "|    decoder_conv1.conv1.norm |    16                  |    10.24K  |\n",
      "|   decoder_conv1.conv2       |   0.6K                 |   0.158M   |\n",
      "|    decoder_conv1.conv2.conv |    0.584K              |    0.147M  |\n",
      "|    decoder_conv1.conv2.norm |    16                  |    10.24K  |\n",
      "|  upsample2                  |  0.132K                |  32.768K   |\n",
      "|   upsample2.weight          |   (8, 4, 2, 2)         |            |\n",
      "|   upsample2.bias            |   (4,)                 |            |\n",
      "|  decoder_conv2              |  0.456K                |  0.483M    |\n",
      "|   decoder_conv2.conv1       |   0.3K                 |   0.315M   |\n",
      "|    decoder_conv2.conv1.conv |    0.292K              |    0.295M  |\n",
      "|    decoder_conv2.conv1.norm |    8                   |    20.48K  |\n",
      "|   decoder_conv2.conv2       |   0.156K               |   0.168M   |\n",
      "|    decoder_conv2.conv2.conv |    0.148K              |    0.147M  |\n",
      "|    decoder_conv2.conv2.norm |    8                   |    20.48K  |\n",
      "|  out_conv                   |  15                    |  12.288K   |\n",
      "|   out_conv.weight           |   (3, 4, 1, 1)         |            |\n",
      "|   out_conv.bias             |   (3,)                 |            |\n",
      "Using bfloat16 Automatic Mixed Precision (AMP)\n",
      "GPU available: True (mps), used: True\n",
      "TPU available: False, using: 0 TPU cores\n",
      "IPU available: False, using: 0 IPUs\n",
      "HPU available: False, using: 0 HPUs\n",
      "INFO:root:Setting up data for stage: TrainerFn.PREDICTING\n",
      "INFO:root:Found 0 already predicted cases. Overwrite: False\n",
      "Restoring states from the checkpoint path at /Users/zcr545/Desktop/Projects/repos/yucca_data/models/Task001_OASIS/TinyUNet__2D/YuccaManager__demo/default/kfold_5_fold_0/version_0/checkpoints/best.ckpt\n",
      "WARNING:root:Succesfully transferred weights for 76/76 layers\n",
      "WARNING:root:Rejected the following keys:\n",
      "Not in old dict: [].\n",
      "Wrong shape: [].\n",
      "Post check not succesful: [].\n",
      "Loaded model weights from the checkpoint at /Users/zcr545/Desktop/Projects/repos/yucca_data/models/Task001_OASIS/TinyUNet__2D/YuccaManager__demo/default/kfold_5_fold_0/version_0/checkpoints/best.ckpt\n",
      "INFO:root:Starting inference\n",
      "/Users/zcr545/miniconda3/envs/yuccaenv/lib/python3.11/site-packages/lightning/pytorch/trainer/connectors/data_connector.py:436: Consider setting `persistent_workers=True` in 'predict_dataloader' to speed up the dataloader worker initialization.\n"
     ]
    },
    {
     "name": "stdout",
     "output_type": "stream",
     "text": [
      "Predicting DataLoader 0:   0%|          | 0/20 [00:00<?, ?it/s]4 [[('/Users/zcr545/Desktop/Projects/repos/yucca_data/preprocessed/Task001_OASIS_test/demo/OASIS_1003.pt',), ('/Users/zcr545/Desktop/Projects/repos/yucca_data/preprocessed/Task001_OASIS_test/demo/OASIS_1003.pkl',)], ('OASIS_1003',)]\n",
      "2 [('/Users/zcr545/Desktop/Projects/repos/yucca_data/preprocessed/Task001_OASIS_test/demo/OASIS_1003.pt',), ('/Users/zcr545/Desktop/Projects/repos/yucca_data/preprocessed/Task001_OASIS_test/demo/OASIS_1003.pkl',)]\n"
     ]
    },
    {
     "name": "stderr",
     "output_type": "stream",
     "text": [
      "/Users/zcr545/miniconda3/envs/yuccaenv/lib/python3.11/site-packages/torch/amp/autocast_mode.py:250: UserWarning: User provided device_type of 'cuda', but CUDA is not available. Disabling\n",
      "  warnings.warn(\n",
      "/Users/zcr545/miniconda3/envs/yuccaenv/lib/python3.11/site-packages/torch/nn/functional.py:4068: UserWarning: The operator 'aten::upsample_trilinear3d.out' is not currently supported on the MPS backend and will fall back to run on the CPU. This may have performance implications. (Triggered internally at /Users/runner/work/_temp/anaconda/conda-bld/pytorch_1709105852207/work/aten/src/ATen/mps/MPSFallback.mm:13.)\n",
      "  return torch._C._nn.upsample_trilinear3d(input, output_size, align_corners, scale_factors)\n"
     ]
    },
    {
     "name": "stdout",
     "output_type": "stream",
     "text": [
      "Predicting DataLoader 0:   5%|▌         | 1/20 [00:20<06:29,  0.05it/s]4 [[('/Users/zcr545/Desktop/Projects/repos/yucca_data/preprocessed/Task001_OASIS_test/demo/OASIS_1004.pt',), ('/Users/zcr545/Desktop/Projects/repos/yucca_data/preprocessed/Task001_OASIS_test/demo/OASIS_1004.pkl',)], ('OASIS_1004',)]\n",
      "2 [('/Users/zcr545/Desktop/Projects/repos/yucca_data/preprocessed/Task001_OASIS_test/demo/OASIS_1004.pt',), ('/Users/zcr545/Desktop/Projects/repos/yucca_data/preprocessed/Task001_OASIS_test/demo/OASIS_1004.pkl',)]\n",
      "Predicting DataLoader 0:  10%|█         | 2/20 [00:44<06:43,  0.04it/s]4 [[('/Users/zcr545/Desktop/Projects/repos/yucca_data/preprocessed/Task001_OASIS_test/demo/OASIS_1005.pt',), ('/Users/zcr545/Desktop/Projects/repos/yucca_data/preprocessed/Task001_OASIS_test/demo/OASIS_1005.pkl',)], ('OASIS_1005',)]\n",
      "2 [('/Users/zcr545/Desktop/Projects/repos/yucca_data/preprocessed/Task001_OASIS_test/demo/OASIS_1005.pt',), ('/Users/zcr545/Desktop/Projects/repos/yucca_data/preprocessed/Task001_OASIS_test/demo/OASIS_1005.pkl',)]\n",
      "Predicting DataLoader 0:  15%|█▌        | 3/20 [01:08<06:30,  0.04it/s]4 [[('/Users/zcr545/Desktop/Projects/repos/yucca_data/preprocessed/Task001_OASIS_test/demo/OASIS_1018.pt',), ('/Users/zcr545/Desktop/Projects/repos/yucca_data/preprocessed/Task001_OASIS_test/demo/OASIS_1018.pkl',)], ('OASIS_1018',)]\n",
      "2 [('/Users/zcr545/Desktop/Projects/repos/yucca_data/preprocessed/Task001_OASIS_test/demo/OASIS_1018.pt',), ('/Users/zcr545/Desktop/Projects/repos/yucca_data/preprocessed/Task001_OASIS_test/demo/OASIS_1018.pkl',)]\n",
      "Predicting DataLoader 0:  20%|██        | 4/20 [01:26<05:45,  0.05it/s]4 [[('/Users/zcr545/Desktop/Projects/repos/yucca_data/preprocessed/Task001_OASIS_test/demo/OASIS_1019.pt',), ('/Users/zcr545/Desktop/Projects/repos/yucca_data/preprocessed/Task001_OASIS_test/demo/OASIS_1019.pkl',)], ('OASIS_1019',)]\n",
      "2 [('/Users/zcr545/Desktop/Projects/repos/yucca_data/preprocessed/Task001_OASIS_test/demo/OASIS_1019.pt',), ('/Users/zcr545/Desktop/Projects/repos/yucca_data/preprocessed/Task001_OASIS_test/demo/OASIS_1019.pkl',)]\n",
      "Predicting DataLoader 0:  25%|██▌       | 5/20 [01:45<05:16,  0.05it/s]4 [[('/Users/zcr545/Desktop/Projects/repos/yucca_data/preprocessed/Task001_OASIS_test/demo/OASIS_1023.pt',), ('/Users/zcr545/Desktop/Projects/repos/yucca_data/preprocessed/Task001_OASIS_test/demo/OASIS_1023.pkl',)], ('OASIS_1023',)]\n",
      "2 [('/Users/zcr545/Desktop/Projects/repos/yucca_data/preprocessed/Task001_OASIS_test/demo/OASIS_1023.pt',), ('/Users/zcr545/Desktop/Projects/repos/yucca_data/preprocessed/Task001_OASIS_test/demo/OASIS_1023.pkl',)]\n",
      "Predicting DataLoader 0:  30%|███       | 6/20 [02:05<04:53,  0.05it/s]4 [[('/Users/zcr545/Desktop/Projects/repos/yucca_data/preprocessed/Task001_OASIS_test/demo/OASIS_1024.pt',), ('/Users/zcr545/Desktop/Projects/repos/yucca_data/preprocessed/Task001_OASIS_test/demo/OASIS_1024.pkl',)], ('OASIS_1024',)]\n",
      "2 [('/Users/zcr545/Desktop/Projects/repos/yucca_data/preprocessed/Task001_OASIS_test/demo/OASIS_1024.pt',), ('/Users/zcr545/Desktop/Projects/repos/yucca_data/preprocessed/Task001_OASIS_test/demo/OASIS_1024.pkl',)]\n",
      "Predicting DataLoader 0:  35%|███▌      | 7/20 [02:29<04:38,  0.05it/s]4 [[('/Users/zcr545/Desktop/Projects/repos/yucca_data/preprocessed/Task001_OASIS_test/demo/OASIS_1025.pt',), ('/Users/zcr545/Desktop/Projects/repos/yucca_data/preprocessed/Task001_OASIS_test/demo/OASIS_1025.pkl',)], ('OASIS_1025',)]\n",
      "2 [('/Users/zcr545/Desktop/Projects/repos/yucca_data/preprocessed/Task001_OASIS_test/demo/OASIS_1025.pt',), ('/Users/zcr545/Desktop/Projects/repos/yucca_data/preprocessed/Task001_OASIS_test/demo/OASIS_1025.pkl',)]\n",
      "Predicting DataLoader 0:  40%|████      | 8/20 [02:54<04:21,  0.05it/s]4 [[('/Users/zcr545/Desktop/Projects/repos/yucca_data/preprocessed/Task001_OASIS_test/demo/OASIS_1038.pt',), ('/Users/zcr545/Desktop/Projects/repos/yucca_data/preprocessed/Task001_OASIS_test/demo/OASIS_1038.pkl',)], ('OASIS_1038',)]\n",
      "2 [('/Users/zcr545/Desktop/Projects/repos/yucca_data/preprocessed/Task001_OASIS_test/demo/OASIS_1038.pt',), ('/Users/zcr545/Desktop/Projects/repos/yucca_data/preprocessed/Task001_OASIS_test/demo/OASIS_1038.pkl',)]\n",
      "Predicting DataLoader 0:  45%|████▌     | 9/20 [03:10<03:52,  0.05it/s]4 [[('/Users/zcr545/Desktop/Projects/repos/yucca_data/preprocessed/Task001_OASIS_test/demo/OASIS_1039.pt',), ('/Users/zcr545/Desktop/Projects/repos/yucca_data/preprocessed/Task001_OASIS_test/demo/OASIS_1039.pkl',)], ('OASIS_1039',)]\n",
      "2 [('/Users/zcr545/Desktop/Projects/repos/yucca_data/preprocessed/Task001_OASIS_test/demo/OASIS_1039.pt',), ('/Users/zcr545/Desktop/Projects/repos/yucca_data/preprocessed/Task001_OASIS_test/demo/OASIS_1039.pkl',)]\n",
      "Predicting DataLoader 0:  50%|█████     | 10/20 [03:31<03:31,  0.05it/s]4 [[('/Users/zcr545/Desktop/Projects/repos/yucca_data/preprocessed/Task001_OASIS_test/demo/OASIS_1101.pt',), ('/Users/zcr545/Desktop/Projects/repos/yucca_data/preprocessed/Task001_OASIS_test/demo/OASIS_1101.pkl',)], ('OASIS_1101',)]\n",
      "2 [('/Users/zcr545/Desktop/Projects/repos/yucca_data/preprocessed/Task001_OASIS_test/demo/OASIS_1101.pt',), ('/Users/zcr545/Desktop/Projects/repos/yucca_data/preprocessed/Task001_OASIS_test/demo/OASIS_1101.pkl',)]\n",
      "Predicting DataLoader 0:  55%|█████▌    | 11/20 [03:54<03:11,  0.05it/s]4 [[('/Users/zcr545/Desktop/Projects/repos/yucca_data/preprocessed/Task001_OASIS_test/demo/OASIS_1104.pt',), ('/Users/zcr545/Desktop/Projects/repos/yucca_data/preprocessed/Task001_OASIS_test/demo/OASIS_1104.pkl',)], ('OASIS_1104',)]\n",
      "2 [('/Users/zcr545/Desktop/Projects/repos/yucca_data/preprocessed/Task001_OASIS_test/demo/OASIS_1104.pt',), ('/Users/zcr545/Desktop/Projects/repos/yucca_data/preprocessed/Task001_OASIS_test/demo/OASIS_1104.pkl',)]\n",
      "Predicting DataLoader 0:  60%|██████    | 12/20 [04:15<02:50,  0.05it/s]4 [[('/Users/zcr545/Desktop/Projects/repos/yucca_data/preprocessed/Task001_OASIS_test/demo/OASIS_1107.pt',), ('/Users/zcr545/Desktop/Projects/repos/yucca_data/preprocessed/Task001_OASIS_test/demo/OASIS_1107.pkl',)], ('OASIS_1107',)]\n",
      "2 [('/Users/zcr545/Desktop/Projects/repos/yucca_data/preprocessed/Task001_OASIS_test/demo/OASIS_1107.pt',), ('/Users/zcr545/Desktop/Projects/repos/yucca_data/preprocessed/Task001_OASIS_test/demo/OASIS_1107.pkl',)]\n",
      "Predicting DataLoader 0:  65%|██████▌   | 13/20 [04:32<02:26,  0.05it/s]4 [[('/Users/zcr545/Desktop/Projects/repos/yucca_data/preprocessed/Task001_OASIS_test/demo/OASIS_1110.pt',), ('/Users/zcr545/Desktop/Projects/repos/yucca_data/preprocessed/Task001_OASIS_test/demo/OASIS_1110.pkl',)], ('OASIS_1110',)]\n",
      "2 [('/Users/zcr545/Desktop/Projects/repos/yucca_data/preprocessed/Task001_OASIS_test/demo/OASIS_1110.pt',), ('/Users/zcr545/Desktop/Projects/repos/yucca_data/preprocessed/Task001_OASIS_test/demo/OASIS_1110.pkl',)]\n",
      "Predicting DataLoader 0:  70%|███████   | 14/20 [04:50<02:04,  0.05it/s]4 [[('/Users/zcr545/Desktop/Projects/repos/yucca_data/preprocessed/Task001_OASIS_test/demo/OASIS_1113.pt',), ('/Users/zcr545/Desktop/Projects/repos/yucca_data/preprocessed/Task001_OASIS_test/demo/OASIS_1113.pkl',)], ('OASIS_1113',)]\n",
      "2 [('/Users/zcr545/Desktop/Projects/repos/yucca_data/preprocessed/Task001_OASIS_test/demo/OASIS_1113.pt',), ('/Users/zcr545/Desktop/Projects/repos/yucca_data/preprocessed/Task001_OASIS_test/demo/OASIS_1113.pkl',)]\n",
      "Predicting DataLoader 0:  75%|███████▌  | 15/20 [05:11<01:43,  0.05it/s]4 [[('/Users/zcr545/Desktop/Projects/repos/yucca_data/preprocessed/Task001_OASIS_test/demo/OASIS_1116.pt',), ('/Users/zcr545/Desktop/Projects/repos/yucca_data/preprocessed/Task001_OASIS_test/demo/OASIS_1116.pkl',)], ('OASIS_1116',)]\n",
      "2 [('/Users/zcr545/Desktop/Projects/repos/yucca_data/preprocessed/Task001_OASIS_test/demo/OASIS_1116.pt',), ('/Users/zcr545/Desktop/Projects/repos/yucca_data/preprocessed/Task001_OASIS_test/demo/OASIS_1116.pkl',)]\n",
      "Predicting DataLoader 0:  80%|████████  | 16/20 [05:33<01:23,  0.05it/s]4 [[('/Users/zcr545/Desktop/Projects/repos/yucca_data/preprocessed/Task001_OASIS_test/demo/OASIS_1119.pt',), ('/Users/zcr545/Desktop/Projects/repos/yucca_data/preprocessed/Task001_OASIS_test/demo/OASIS_1119.pkl',)], ('OASIS_1119',)]\n",
      "2 [('/Users/zcr545/Desktop/Projects/repos/yucca_data/preprocessed/Task001_OASIS_test/demo/OASIS_1119.pt',), ('/Users/zcr545/Desktop/Projects/repos/yucca_data/preprocessed/Task001_OASIS_test/demo/OASIS_1119.pkl',)]\n",
      "Predicting DataLoader 0:  85%|████████▌ | 17/20 [05:53<01:02,  0.05it/s]4 [[('/Users/zcr545/Desktop/Projects/repos/yucca_data/preprocessed/Task001_OASIS_test/demo/OASIS_1122.pt',), ('/Users/zcr545/Desktop/Projects/repos/yucca_data/preprocessed/Task001_OASIS_test/demo/OASIS_1122.pkl',)], ('OASIS_1122',)]\n",
      "2 [('/Users/zcr545/Desktop/Projects/repos/yucca_data/preprocessed/Task001_OASIS_test/demo/OASIS_1122.pt',), ('/Users/zcr545/Desktop/Projects/repos/yucca_data/preprocessed/Task001_OASIS_test/demo/OASIS_1122.pkl',)]\n",
      "Predicting DataLoader 0:  90%|█████████ | 18/20 [06:09<00:41,  0.05it/s]4 [[('/Users/zcr545/Desktop/Projects/repos/yucca_data/preprocessed/Task001_OASIS_test/demo/OASIS_1125.pt',), ('/Users/zcr545/Desktop/Projects/repos/yucca_data/preprocessed/Task001_OASIS_test/demo/OASIS_1125.pkl',)], ('OASIS_1125',)]\n",
      "2 [('/Users/zcr545/Desktop/Projects/repos/yucca_data/preprocessed/Task001_OASIS_test/demo/OASIS_1125.pt',), ('/Users/zcr545/Desktop/Projects/repos/yucca_data/preprocessed/Task001_OASIS_test/demo/OASIS_1125.pkl',)]\n",
      "Predicting DataLoader 0:  95%|█████████▌| 19/20 [06:33<00:20,  0.05it/s]4 [[('/Users/zcr545/Desktop/Projects/repos/yucca_data/preprocessed/Task001_OASIS_test/demo/OASIS_1128.pt',), ('/Users/zcr545/Desktop/Projects/repos/yucca_data/preprocessed/Task001_OASIS_test/demo/OASIS_1128.pkl',)], ('OASIS_1128',)]\n",
      "2 [('/Users/zcr545/Desktop/Projects/repos/yucca_data/preprocessed/Task001_OASIS_test/demo/OASIS_1128.pt',), ('/Users/zcr545/Desktop/Projects/repos/yucca_data/preprocessed/Task001_OASIS_test/demo/OASIS_1128.pkl',)]\n",
      "Predicting DataLoader 0: 100%|██████████| 20/20 [06:48<00:00,  0.05it/s]\n"
     ]
    }
   ],
   "source": [
    "manager.predict_preprocessed_folder(\n",
    "    target_data_path,\n",
    "    overwrite_predictions=False,\n",
    "    output_folder=save_path,\n",
    ")"
   ]
  },
  {
   "cell_type": "code",
   "execution_count": 6,
   "metadata": {},
   "outputs": [
    {
     "ename": "NameError",
     "evalue": "name 'YuccaEvaluator' is not defined",
     "output_type": "error",
     "traceback": [
      "\u001b[0;31m---------------------------------------------------------------------------\u001b[0m",
      "\u001b[0;31mNameError\u001b[0m                                 Traceback (most recent call last)",
      "Cell \u001b[0;32mIn[6], line 1\u001b[0m\n\u001b[0;32m----> 1\u001b[0m evaluator \u001b[38;5;241m=\u001b[39m \u001b[43mYuccaEvaluator\u001b[49m(\n\u001b[1;32m      2\u001b[0m     manager\u001b[38;5;241m.\u001b[39mmodel_module\u001b[38;5;241m.\u001b[39mnum_classes,\n\u001b[1;32m      3\u001b[0m     folder_with_predictions\u001b[38;5;241m=\u001b[39moutpath,\n\u001b[1;32m      4\u001b[0m     folder_with_ground_truth\u001b[38;5;241m=\u001b[39mground_truth,\n\u001b[1;32m      5\u001b[0m     overwrite\u001b[38;5;241m=\u001b[39moverwrite,\n\u001b[1;32m      6\u001b[0m     task_type\u001b[38;5;241m=\u001b[39mtask_type,\n\u001b[1;32m      7\u001b[0m     use_wandb\u001b[38;5;241m=\u001b[39muse_wandb,\n\u001b[1;32m      8\u001b[0m     strict\u001b[38;5;241m=\u001b[39mstrict,\n\u001b[1;32m      9\u001b[0m )\n\u001b[1;32m     10\u001b[0m evaluator\u001b[38;5;241m.\u001b[39mrun()\n",
      "\u001b[0;31mNameError\u001b[0m: name 'YuccaEvaluator' is not defined"
     ]
    }
   ],
   "source": [
    "evaluator = YuccaEvaluator(\n",
    "    manager.model_module.num_classes,\n",
    "    folder_with_predictions=outpath,\n",
    "    folder_with_ground_truth=ground_truth,\n",
    "    overwrite=overwrite,\n",
    "    task_type=task_type,\n",
    "    use_wandb=use_wandb,\n",
    "    strict=strict,\n",
    ")\n",
    "evaluator.run()"
   ]
  }
 ],
 "metadata": {
  "kernelspec": {
   "display_name": "yuccaenv",
   "language": "python",
   "name": "python3"
  },
  "language_info": {
   "codemirror_mode": {
    "name": "ipython",
    "version": 3
   },
   "file_extension": ".py",
   "mimetype": "text/x-python",
   "name": "python",
   "nbconvert_exporter": "python",
   "pygments_lexer": "ipython3",
   "version": "3.11.7"
  }
 },
 "nbformat": 4,
 "nbformat_minor": 2
}
